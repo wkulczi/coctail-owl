{
 "cells": [
  {
   "cell_type": "markdown",
   "metadata": {
    "colab_type": "text",
    "id": "YQFgc_YUuCv2"
   },
   "source": [
    "# Czym jest rdflib"
   ]
  },
  {
   "cell_type": "markdown",
   "metadata": {
    "colab_type": "text",
    "id": "yrdNfjqQuCv5"
   },
   "source": [
    "Pakiet Pythona pomocny w pracy z grafami RDF. Umożliwia:\n",
    "- wczytywanie grafów z internetu\n",
    "- zapisywanie grafów\n",
    "- parsowanie i serializację grafów\n",
    "- wydawanie zapytań za pomocą języka SPARQL"
   ]
  },
  {
   "cell_type": "markdown",
   "metadata": {
    "colab_type": "text",
    "id": "ehQ8o7I1uCv7"
   },
   "source": [
    "Instalacja pakietu w środowisku unixowym:\n",
    "> pip install rdflib"
   ]
  },
  {
   "cell_type": "markdown",
   "metadata": {
    "colab_type": "text",
    "id": "dU6UFxPluCv9"
   },
   "source": [
    "W celu ćwiczeń użyjemy przykładowego grafu opisującego domenę uniwersytetu (pochodzącego z repozytorium systemu ontop: https://github.com/ontop/ontop). "
   ]
  },
  {
   "cell_type": "markdown",
   "metadata": {},
   "source": [
    "Kulczak Wojciech, IP, 136270, L1"
   ]
  },
  {
   "cell_type": "markdown",
   "metadata": {
    "colab_type": "text",
    "id": "nonWZ368uCv_"
   },
   "source": [
    "# Tworzenie grafu"
   ]
  },
  {
   "cell_type": "code",
   "execution_count": 1,
   "metadata": {
    "colab": {
     "base_uri": "https://localhost:8080/",
     "height": 174
    },
    "colab_type": "code",
    "executionInfo": {
     "elapsed": 7402,
     "status": "ok",
     "timestamp": 1554724384035,
     "user": {
      "displayName": "Agnieszka Ławrynowicz",
      "photoUrl": "https://lh4.googleusercontent.com/-Ia5CUQu-xeM/AAAAAAAAAAI/AAAAAAAAAB4/axcfYXmyGW0/s64/photo.jpg",
      "userId": "04962094137209320372"
     },
     "user_tz": -120
    },
    "id": "nGtxllOfZXup",
    "outputId": "55199b60-c4ef-40a9-c50a-269d621edd74"
   },
   "outputs": [
    {
     "name": "stdout",
     "output_type": "stream",
     "text": [
      "/bin/bash: pip: command not found\n"
     ]
    }
   ],
   "source": [
    "!pip install rdflib\n",
    "\n",
    "import rdflib"
   ]
  },
  {
   "cell_type": "markdown",
   "metadata": {
    "colab_type": "text",
    "id": "4UfZoiZcuCwC"
   },
   "source": [
    "Tworzenie elementu grafu:"
   ]
  },
  {
   "cell_type": "code",
   "execution_count": 2,
   "metadata": {
    "colab": {},
    "colab_type": "code",
    "id": "y-uT_V5DuCwE"
   },
   "outputs": [],
   "source": [
    "from rdflib import Graph\n",
    "g1 = Graph()"
   ]
  },
  {
   "cell_type": "markdown",
   "metadata": {
    "colab_type": "text",
    "id": "AxnM2LF-uCwL"
   },
   "source": [
    "Ładowanie grafu z zewnętrznego źródła:"
   ]
  },
  {
   "cell_type": "code",
   "execution_count": 3,
   "metadata": {
    "colab": {
     "base_uri": "https://localhost:8080/",
     "height": 74
    },
    "colab_type": "code",
    "executionInfo": {
     "elapsed": 1172,
     "status": "ok",
     "timestamp": 1554724393923,
     "user": {
      "displayName": "Agnieszka Ławrynowicz",
      "photoUrl": "https://lh4.googleusercontent.com/-Ia5CUQu-xeM/AAAAAAAAAAI/AAAAAAAAAB4/axcfYXmyGW0/s64/photo.jpg",
      "userId": "04962094137209320372"
     },
     "user_tz": -120
    },
    "id": "hZWZOkEduCwN",
    "outputId": "c4a4321b-53a2-4b2c-f589-4a52ea23b729"
   },
   "outputs": [],
   "source": [
    "result = g1.parse(\"university.ttl\", format=\"ttl\")"
   ]
  },
  {
   "cell_type": "code",
   "execution_count": 4,
   "metadata": {
    "colab": {
     "base_uri": "https://localhost:8080/",
     "height": 34
    },
    "colab_type": "code",
    "executionInfo": {
     "elapsed": 1031,
     "status": "ok",
     "timestamp": 1554722587732,
     "user": {
      "displayName": "Agnieszka Ławrynowicz",
      "photoUrl": "https://lh4.googleusercontent.com/-Ia5CUQu-xeM/AAAAAAAAAAI/AAAAAAAAAB4/axcfYXmyGW0/s64/photo.jpg",
      "userId": "04962094137209320372"
     },
     "user_tz": -120
    },
    "id": "vf-jUNgBuCwT",
    "outputId": "f52d250a-767b-45f5-f28b-734aeab29612"
   },
   "outputs": [
    {
     "name": "stdout",
     "output_type": "stream",
     "text": [
      "Graf zawiera 250 trójek.\n"
     ]
    }
   ],
   "source": [
    "print(\"Graf zawiera %s trójek.\" % len(g1))"
   ]
  },
  {
   "cell_type": "markdown",
   "metadata": {
    "colab_type": "text",
    "id": "TZktC2ZvuCwb"
   },
   "source": [
    "# Serializacja grafu"
   ]
  },
  {
   "cell_type": "markdown",
   "metadata": {
    "colab_type": "text",
    "id": "cIBHG3JHuCwe"
   },
   "source": [
    "Graf rdf możemy serializować na wiele różnych formatów: xml, turle, n3, json-ld itd. Poniżej znajduje się przykład serializacji do formatu turtle. "
   ]
  },
  {
   "cell_type": "code",
   "execution_count": 5,
   "metadata": {
    "colab": {
     "base_uri": "https://localhost:8080/",
     "height": 74
    },
    "colab_type": "code",
    "executionInfo": {
     "elapsed": 1400,
     "status": "ok",
     "timestamp": 1554722591329,
     "user": {
      "displayName": "Agnieszka Ławrynowicz",
      "photoUrl": "https://lh4.googleusercontent.com/-Ia5CUQu-xeM/AAAAAAAAAAI/AAAAAAAAAB4/axcfYXmyGW0/s64/photo.jpg",
      "userId": "04962094137209320372"
     },
     "user_tz": -120
    },
    "id": "vO2rERKtuCwh",
    "outputId": "eaa38faa-0c20-4a54-833d-c706467a376c"
   },
   "outputs": [
    {
     "name": "stdout",
     "output_type": "stream",
     "text": [
      "b'@prefix ns1: <http://example.org/voc#> .\\n@prefix ns2: <http://xmlns.com/foaf/0.1/> .\\n@prefix owl: <http://www.w3.org/2002/07/owl#> .\\n@prefix xsd: <http://www.w3.org/2001/XMLSchema#> .\\n\\n<http://example.org/uni1/academic/1> a ns1:FacultyMember,\\n        ns1:FullProfessor,\\n        owl:NamedIndividual ;\\n    ns1:teaches <http://example.org/uni1/course/1234>,\\n        <http://example.org/uni1/course/1235> ;\\n    ns2:firstName \"Anna\"^^xsd:string ;\\n    ns2:lastName \"Chambers\"^^xsd:string .\\n\\n<http://example.org/uni1/academic/10> a ns1:ExternalTeacher,\\n        ns1:FacultyMember,\\n        owl:NamedIndividual ;\\n    ns2:firstName \"Udi\"^^xsd:string ;\\n    ns2:lastName \"Heinrike\"^^xsd:string .\\n\\n<http://example.org/uni1/academic/11> a ns1:FacultyMember,\\n        ns1:PostDoc,\\n        owl:NamedIndividual ;\\n    ns2:firstName \"Alvena\"^^xsd:string ;\\n    ns2:lastName \"Merry\"^^xsd:string .\\n\\n<http://example.org/uni1/academic/12> a ns1:FacultyMember,\\n        ns1:FullProfessor,\\n        owl:NamedIndividual ;\\n    ns1:teaches <http://example.org/uni1/course/1500>,\\n        <http://example.org/uni1/course/1501> ;\\n    ns2:firstName \"Kyler\"^^xsd:string ;\\n    ns2:lastName \"Josephina\"^^xsd:string .\\n\\n<http://example.org/uni1/academic/13> a ns1:AssociateProfessor,\\n        ns1:FacultyMember,\\n        owl:NamedIndividual ;\\n    ns1:teaches <http://example.org/uni1/course/1502> ;\\n    ns2:firstName \"Gerard\"^^xsd:string ;\\n    ns2:lastName \"Cosimo\"^^xsd:string .\\n\\n<http://example.org/uni1/academic/14> a ns1:FacultyMember,\\n        owl:NamedIndividual ;\\n    ns1:teaches <http://example.org/uni1/course/1501> ;\\n    ns2:firstName \"Karine\"^^xsd:string ;\\n    ns2:lastName \"Attilio\"^^xsd:string .\\n\\n<http://example.org/uni1/academic/2> a ns1:FacultyMember,\\n        ns1:PostDoc,\\n        owl:NamedIndividual ;\\n    ns1:teaches <http://example.org/uni1/course/1234>,\\n        <http://example.org/uni1/course/1500> ;\\n    ns2:firstName \"Edward\"^^xsd:string ;\\n    ns2:lastName \"May\"^^xsd:string .\\n\\n<http://example.org/uni1/academic/3> a ns1:ExternalTeacher,\\n        ns1:FacultyMember,\\n        owl:NamedIndividual ;\\n    ns1:teaches <http://example.org/uni1/course/1235> ;\\n    ns2:firstName \"Rachel\"^^xsd:string ;\\n    ns2:lastName \"Ward\"^^xsd:string .\\n\\n<http://example.org/uni1/academic/4> a ns1:AssociateProfessor,\\n        ns1:FacultyMember,\\n        owl:NamedIndividual ;\\n    ns1:teaches <http://example.org/uni1/course/1236> ;\\n    ns2:firstName \"Priscilla\"^^xsd:string ;\\n    ns2:lastName \"Hildr\"^^xsd:string .\\n\\n<http://example.org/uni1/academic/5> a ns1:FacultyMember,\\n        owl:NamedIndividual ;\\n    ns2:firstName \"Zlata\"^^xsd:string ;\\n    ns2:lastName \"Richmal\"^^xsd:string .\\n\\n<http://example.org/uni1/academic/6> a ns1:FacultyMember,\\n        owl:NamedIndividual ;\\n    ns2:firstName \"Nathaniel\"^^xsd:string ;\\n    ns2:lastName \"Abolfazl\"^^xsd:string .\\n\\n<http://example.org/uni1/academic/7> a ns1:FacultyMember,\\n        owl:NamedIndividual ;\\n    ns1:teaches <http://example.org/uni1/course/1501> ;\\n    ns2:firstName \"Sergei\"^^xsd:string ;\\n    ns2:lastName \"Elian\"^^xsd:string .\\n\\n<http://example.org/uni1/academic/8> a ns1:FacultyMember,\\n        owl:NamedIndividual ;\\n    ns1:teaches <http://example.org/uni1/course/1236> ;\\n    ns2:firstName \"Alois\"^^xsd:string ;\\n    ns2:lastName \"Jayant\"^^xsd:string .\\n\\n<http://example.org/uni1/academic/9> a ns1:FacultyMember,\\n        owl:NamedIndividual ;\\n    ns1:teaches <http://example.org/uni1/course/1236> ;\\n    ns2:firstName \"Torborg\"^^xsd:string ;\\n    ns2:lastName \"Chernobog\"^^xsd:string .\\n\\n<http://example.org/uni1/student/1> a ns1:Student,\\n        owl:NamedIndividual ;\\n    ns1:attends <http://example.org/uni1/course/1234>,\\n        <http://example.org/uni1/course/1235>,\\n        <http://example.org/uni1/course/1236> ;\\n    ns2:firstName \"Mary\"^^xsd:string ;\\n    ns2:lastName \"Smith\"^^xsd:string .\\n\\n<http://example.org/uni1/student/2> a ns1:Student,\\n        owl:NamedIndividual ;\\n    ns1:attends <http://example.org/uni1/course/1234>,\\n        <http://example.org/uni1/course/1235> ;\\n    ns2:firstName \"John\"^^xsd:string ;\\n    ns2:lastName \"Doe\"^^xsd:string .\\n\\n<http://example.org/uni1/student/3> a ns1:Student,\\n        owl:NamedIndividual ;\\n    ns1:attends <http://example.org/uni1/course/1234>,\\n        <http://example.org/uni1/course/1236> ;\\n    ns2:firstName \"Franck\"^^xsd:string ;\\n    ns2:lastName \"Combs\"^^xsd:string .\\n\\n<http://example.org/uni1/student/4> a ns1:Student,\\n        owl:NamedIndividual ;\\n    ns1:attends <http://example.org/uni1/course/1500>,\\n        <http://example.org/uni1/course/1501> ;\\n    ns2:firstName \"Billy\"^^xsd:string ;\\n    ns2:lastName \"Hinkley\"^^xsd:string .\\n\\n<http://example.org/uni1/student/5> a ns1:Student,\\n        owl:NamedIndividual ;\\n    ns1:attends <http://example.org/uni1/course/1500>,\\n        <http://example.org/uni1/course/1502> ;\\n    ns2:firstName \"Alison\"^^xsd:string ;\\n    ns2:lastName \"Robards\"^^xsd:string .\\n\\n<http://example.org/uni2/person/1> a ns1:AssociateProfessor,\\n        owl:NamedIndividual,\\n        ns2:Person ;\\n    ns1:givesLecture <http://example.org/uni2/course/1>,\\n        <http://example.org/uni2/course/5> ;\\n    ns2:firstName \"Zak\"^^xsd:string ;\\n    ns2:lastName \"Lane\"^^xsd:string .\\n\\n<http://example.org/uni2/person/10> a ns1:UndergraduateStudent,\\n        owl:NamedIndividual,\\n        ns2:Person ;\\n    ns1:attends <http://example.org/uni2/course/4> ;\\n    ns2:firstName \"Larry\"^^xsd:string ;\\n    ns2:lastName \"Alfaro\"^^xsd:string .\\n\\n<http://example.org/uni2/person/11> a owl:NamedIndividual,\\n        ns2:Person ;\\n    ns2:firstName \"John\"^^xsd:string ;\\n    ns2:lastName \"Sims\"^^xsd:string .\\n\\n<http://example.org/uni2/person/2> a ns1:UndergraduateStudent,\\n        owl:NamedIndividual,\\n        ns2:Person ;\\n    ns1:attends <http://example.org/uni2/course/1>,\\n        <http://example.org/uni2/course/5> ;\\n    ns2:firstName \"Mattie\"^^xsd:string ;\\n    ns2:lastName \"Moses\"^^xsd:string .\\n\\n<http://example.org/uni2/person/3> a ns1:GraduateStudent,\\n        owl:NamedIndividual,\\n        ns2:Person ;\\n    ns1:attends <http://example.org/uni2/course/2>,\\n        <http://example.org/uni2/course/3> ;\\n    ns1:givesLab <http://example.org/uni2/course/1> ;\\n    ns2:firstName \"C\\xc3\\xa9line\"^^xsd:string ;\\n    ns2:lastName \"Mendez\"^^xsd:string .\\n\\n<http://example.org/uni2/person/4> a ns1:AssistantProfessor,\\n        owl:NamedIndividual,\\n        ns2:Person ;\\n    ns1:givesLab <http://example.org/uni2/course/6> ;\\n    ns2:firstName \"Rachel\"^^xsd:string ;\\n    ns2:lastName \"Ward\"^^xsd:string .\\n\\n<http://example.org/uni2/person/5> a ns1:PostDoc,\\n        owl:NamedIndividual,\\n        ns2:Person ;\\n    ns1:givesLab <http://example.org/uni2/course/2> ;\\n    ns2:firstName \"Alvena\"^^xsd:string ;\\n    ns2:lastName \"Merry\"^^xsd:string .\\n\\n<http://example.org/uni2/person/6> a ns1:FullProfessor,\\n        owl:NamedIndividual,\\n        ns2:Person ;\\n    ns2:firstName \"Victor\"^^xsd:string ;\\n    ns2:lastName \"Scott\"^^xsd:string .\\n\\n<http://example.org/uni2/person/7> a ns1:AssociateProfessor,\\n        owl:NamedIndividual,\\n        ns2:Person ;\\n    ns1:givesLecture <http://example.org/uni2/course/3>,\\n        <http://example.org/uni2/course/4>,\\n        <http://example.org/uni2/course/6> ;\\n    ns2:firstName \"Kellie\"^^xsd:string ;\\n    ns2:lastName \"Griffin\"^^xsd:string .\\n\\n<http://example.org/uni2/person/8> a ns1:AssistantProfessor,\\n        owl:NamedIndividual,\\n        ns2:Person ;\\n    ns1:givesLab <http://example.org/uni2/course/3>,\\n        <http://example.org/uni2/course/5> ;\\n    ns1:givesLecture <http://example.org/uni2/course/2> ;\\n    ns2:firstName \"Sueann\"^^xsd:string ;\\n    ns2:lastName \"Samora\"^^xsd:string .\\n\\n<http://example.org/uni2/person/9> a ns1:GraduateStudent,\\n        owl:NamedIndividual,\\n        ns2:Person ;\\n    ns1:attends <http://example.org/uni2/course/2> ;\\n    ns1:givesLab <http://example.org/uni2/course/4> ;\\n    ns2:firstName \"Billy\"^^xsd:string ;\\n    ns2:lastName \"Hinkley\"^^xsd:string .\\n\\nns1:attends a owl:ObjectProperty .\\n\\nns1:givesLab a owl:ObjectProperty .\\n\\nns1:givesLecture a owl:ObjectProperty .\\n\\nns1:isGivenAt a owl:ObjectProperty .\\n\\nns1:teaches a owl:ObjectProperty .\\n\\nns1:title a owl:DatatypeProperty .\\n\\nns2:firstName a owl:DatatypeProperty .\\n\\nns2:lastName a owl:DatatypeProperty .\\n\\n<http://example.org/uni1/course/1502> a ns1:Course,\\n        owl:NamedIndividual ;\\n    ns1:isGivenAt <http://example.org/uni1/university> ;\\n    ns1:title \"Research Methods\" .\\n\\n<http://example.org/uni2/course/6> a ns1:Course,\\n        owl:NamedIndividual ;\\n    ns1:isGivenAt <http://example.org/uni2/university> ;\\n    ns1:title \"Intelligent Systems\"^^xsd:string .\\n\\nns1:AssistantProfessor a owl:Class .\\n\\nns1:ExternalTeacher a owl:Class .\\n\\nns1:GraduateStudent a owl:Class .\\n\\nns1:UndergraduateStudent a owl:Class .\\n\\n<http://example.org/uni2/course/1> a ns1:Course,\\n        owl:NamedIndividual ;\\n    ns1:isGivenAt <http://example.org/uni2/university> ;\\n    ns1:title \"Information security\"^^xsd:string .\\n\\n<http://example.org/uni2/course/3> a ns1:Course,\\n        owl:NamedIndividual ;\\n    ns1:isGivenAt <http://example.org/uni2/university> ;\\n    ns1:title \"Software process management\"^^xsd:string .\\n\\n<http://example.org/uni2/course/4> a ns1:Course,\\n        owl:NamedIndividual ;\\n    ns1:isGivenAt <http://example.org/uni2/university> ;\\n    ns1:title \"Introduction to programming\"^^xsd:string .\\n\\n<http://example.org/uni2/course/5> a ns1:Course,\\n        owl:NamedIndividual ;\\n    ns1:isGivenAt <http://example.org/uni2/university> ;\\n    ns1:title \"Discrete mathematics and logic\"^^xsd:string .\\n\\nns1:FullProfessor a owl:Class .\\n\\nns1:PostDoc a owl:Class .\\n\\n<http://example.org/uni1/course/1235> a ns1:Course,\\n        owl:NamedIndividual ;\\n    ns1:isGivenAt <http://example.org/uni1/university> ;\\n    ns1:title \"Analysis\" .\\n\\n<http://example.org/uni1/course/1500> a ns1:Course,\\n        owl:NamedIndividual ;\\n    ns1:isGivenAt <http://example.org/uni1/university> ;\\n    ns1:title \"Data Mining\" .\\n\\n<http://example.org/uni1/course/1501> a ns1:Course,\\n        owl:NamedIndividual ;\\n    ns1:isGivenAt <http://example.org/uni1/university> ;\\n    ns1:title \"Theory of Computing\" .\\n\\n<http://example.org/uni2/course/2> a ns1:Course,\\n        owl:NamedIndividual ;\\n    ns1:isGivenAt <http://example.org/uni2/university> ;\\n    ns1:title \"Software factory\"^^xsd:string .\\n\\nns1:AssociateProfessor a owl:Class .\\n\\n<http://example.org/uni1/course/1234> a ns1:Course,\\n        owl:NamedIndividual ;\\n    ns1:isGivenAt <http://example.org/uni1/university> ;\\n    ns1:title \"Linear Algebra\" .\\n\\n<http://example.org/uni1/course/1236> a ns1:Course,\\n        owl:NamedIndividual ;\\n    ns1:isGivenAt <http://example.org/uni1/university> ;\\n    ns1:title \"Operating Systems\" .\\n\\nns1:Student a owl:Class .\\n\\n<http://example.org/uni1/university> a owl:NamedIndividual .\\n\\n<http://example.org/uni2/university> a owl:NamedIndividual .\\n\\nns2:Person a owl:Class .\\n\\nns1:Course a owl:Class .\\n\\nns1:FacultyMember a owl:Class .\\n\\n[] a owl:Ontology .\\n\\n'\n"
     ]
    }
   ],
   "source": [
    "print(g1.serialize(format='turtle'))\n"
   ]
  },
  {
   "cell_type": "markdown",
   "metadata": {
    "colab_type": "text",
    "id": "sGTdMTrUuCwl"
   },
   "source": [
    "<span style=\"color:red\"> __Zadanie 1: serializuj graf g1 do formatu XML ('pretty-xml').__ </span>"
   ]
  },
  {
   "cell_type": "code",
   "execution_count": 6,
   "metadata": {
    "colab": {},
    "colab_type": "code",
    "id": "FnVJOng8uCwm"
   },
   "outputs": [
    {
     "name": "stdout",
     "output_type": "stream",
     "text": [
      "b'<?xml version=\"1.0\" encoding=\"utf-8\"?>\\n<rdf:RDF\\n  xmlns:ns1=\"http://example.org/voc#\"\\n  xmlns:owl=\"http://www.w3.org/2002/07/owl#\"\\n  xmlns:ns2=\"http://xmlns.com/foaf/0.1/\"\\n  xmlns:rdf=\"http://www.w3.org/1999/02/22-rdf-syntax-ns#\"\\n>\\n  <ns1:Student rdf:about=\"http://example.org/uni1/student/5\">\\n    <ns1:attends>\\n      <owl:NamedIndividual rdf:about=\"http://example.org/uni1/course/1500\">\\n        <ns1:title>Data Mining</ns1:title>\\n        <rdf:type rdf:resource=\"http://example.org/voc#Course\"/>\\n        <ns1:isGivenAt rdf:resource=\"http://example.org/uni1/university\"/>\\n      </owl:NamedIndividual>\\n    </ns1:attends>\\n    <ns1:attends>\\n      <ns1:Course rdf:about=\"http://example.org/uni1/course/1502\">\\n        <ns1:isGivenAt rdf:resource=\"http://example.org/uni1/university\"/>\\n        <rdf:type rdf:resource=\"http://www.w3.org/2002/07/owl#NamedIndividual\"/>\\n        <ns1:title>Research Methods</ns1:title>\\n      </ns1:Course>\\n    </ns1:attends>\\n    <ns2:lastName rdf:datatype=\"http://www.w3.org/2001/XMLSchema#string\">Robards</ns2:lastName>\\n    <ns2:firstName rdf:datatype=\"http://www.w3.org/2001/XMLSchema#string\">Alison</ns2:firstName>\\n    <rdf:type rdf:resource=\"http://www.w3.org/2002/07/owl#NamedIndividual\"/>\\n  </ns1:Student>\\n  <ns1:FacultyMember rdf:about=\"http://example.org/uni1/academic/5\">\\n    <ns2:firstName rdf:datatype=\"http://www.w3.org/2001/XMLSchema#string\">Zlata</ns2:firstName>\\n    <ns2:lastName rdf:datatype=\"http://www.w3.org/2001/XMLSchema#string\">Richmal</ns2:lastName>\\n    <rdf:type rdf:resource=\"http://www.w3.org/2002/07/owl#NamedIndividual\"/>\\n  </ns1:FacultyMember>\\n  <ns1:FacultyMember rdf:about=\"http://example.org/uni1/academic/9\">\\n    <ns2:lastName rdf:datatype=\"http://www.w3.org/2001/XMLSchema#string\">Chernobog</ns2:lastName>\\n    <ns1:teaches>\\n      <owl:NamedIndividual rdf:about=\"http://example.org/uni1/course/1236\">\\n        <ns1:title>Operating Systems</ns1:title>\\n        <rdf:type rdf:resource=\"http://example.org/voc#Course\"/>\\n        <ns1:isGivenAt rdf:resource=\"http://example.org/uni1/university\"/>\\n      </owl:NamedIndividual>\\n    </ns1:teaches>\\n    <rdf:type rdf:resource=\"http://www.w3.org/2002/07/owl#NamedIndividual\"/>\\n    <ns2:firstName rdf:datatype=\"http://www.w3.org/2001/XMLSchema#string\">Torborg</ns2:firstName>\\n  </ns1:FacultyMember>\\n  <ns2:Person rdf:about=\"http://example.org/uni2/person/11\">\\n    <ns2:firstName rdf:datatype=\"http://www.w3.org/2001/XMLSchema#string\">John</ns2:firstName>\\n    <rdf:type rdf:resource=\"http://www.w3.org/2002/07/owl#NamedIndividual\"/>\\n    <ns2:lastName rdf:datatype=\"http://www.w3.org/2001/XMLSchema#string\">Sims</ns2:lastName>\\n  </ns2:Person>\\n  <ns1:FullProfessor rdf:about=\"http://example.org/uni2/person/6\">\\n    <rdf:type rdf:resource=\"http://www.w3.org/2002/07/owl#NamedIndividual\"/>\\n    <ns2:firstName rdf:datatype=\"http://www.w3.org/2001/XMLSchema#string\">Victor</ns2:firstName>\\n    <ns2:lastName rdf:datatype=\"http://www.w3.org/2001/XMLSchema#string\">Scott</ns2:lastName>\\n    <rdf:type rdf:resource=\"http://xmlns.com/foaf/0.1/Person\"/>\\n  </ns1:FullProfessor>\\n  <ns2:Person rdf:about=\"http://example.org/uni2/person/4\">\\n    <ns1:givesLab>\\n      <owl:NamedIndividual rdf:about=\"http://example.org/uni2/course/6\">\\n        <ns1:isGivenAt rdf:resource=\"http://example.org/uni2/university\"/>\\n        <ns1:title rdf:datatype=\"http://www.w3.org/2001/XMLSchema#string\">Intelligent Systems</ns1:title>\\n        <rdf:type rdf:resource=\"http://example.org/voc#Course\"/>\\n      </owl:NamedIndividual>\\n    </ns1:givesLab>\\n    <rdf:type rdf:resource=\"http://example.org/voc#AssistantProfessor\"/>\\n    <rdf:type rdf:resource=\"http://www.w3.org/2002/07/owl#NamedIndividual\"/>\\n    <ns2:firstName rdf:datatype=\"http://www.w3.org/2001/XMLSchema#string\">Rachel</ns2:firstName>\\n    <ns2:lastName rdf:datatype=\"http://www.w3.org/2001/XMLSchema#string\">Ward</ns2:lastName>\\n  </ns2:Person>\\n  <ns1:FacultyMember rdf:about=\"http://example.org/uni1/academic/7\">\\n    <ns2:firstName rdf:datatype=\"http://www.w3.org/2001/XMLSchema#string\">Sergei</ns2:firstName>\\n    <ns2:lastName rdf:datatype=\"http://www.w3.org/2001/XMLSchema#string\">Elian</ns2:lastName>\\n    <ns1:teaches>\\n      <owl:NamedIndividual rdf:about=\"http://example.org/uni1/course/1501\">\\n        <ns1:isGivenAt rdf:resource=\"http://example.org/uni1/university\"/>\\n        <ns1:title>Theory of Computing</ns1:title>\\n        <rdf:type rdf:resource=\"http://example.org/voc#Course\"/>\\n      </owl:NamedIndividual>\\n    </ns1:teaches>\\n    <rdf:type rdf:resource=\"http://www.w3.org/2002/07/owl#NamedIndividual\"/>\\n  </ns1:FacultyMember>\\n  <ns1:PostDoc rdf:about=\"http://example.org/uni1/academic/11\">\\n    <rdf:type rdf:resource=\"http://www.w3.org/2002/07/owl#NamedIndividual\"/>\\n    <ns2:firstName rdf:datatype=\"http://www.w3.org/2001/XMLSchema#string\">Alvena</ns2:firstName>\\n    <ns2:lastName rdf:datatype=\"http://www.w3.org/2001/XMLSchema#string\">Merry</ns2:lastName>\\n    <rdf:type rdf:resource=\"http://example.org/voc#FacultyMember\"/>\\n  </ns1:PostDoc>\\n  <ns1:Student rdf:about=\"http://example.org/uni1/student/3\">\\n    <ns1:attends>\\n      <owl:NamedIndividual rdf:about=\"http://example.org/uni1/course/1234\">\\n        <ns1:isGivenAt rdf:resource=\"http://example.org/uni1/university\"/>\\n        <ns1:title>Linear Algebra</ns1:title>\\n        <rdf:type rdf:resource=\"http://example.org/voc#Course\"/>\\n      </owl:NamedIndividual>\\n    </ns1:attends>\\n    <ns2:lastName rdf:datatype=\"http://www.w3.org/2001/XMLSchema#string\">Combs</ns2:lastName>\\n    <ns2:firstName rdf:datatype=\"http://www.w3.org/2001/XMLSchema#string\">Franck</ns2:firstName>\\n    <rdf:type rdf:resource=\"http://www.w3.org/2002/07/owl#NamedIndividual\"/>\\n    <ns1:attends rdf:resource=\"http://example.org/uni1/course/1236\"/>\\n  </ns1:Student>\\n  <ns2:Person rdf:about=\"http://example.org/uni2/person/7\">\\n    <ns2:lastName rdf:datatype=\"http://www.w3.org/2001/XMLSchema#string\">Griffin</ns2:lastName>\\n    <ns1:givesLecture>\\n      <owl:NamedIndividual rdf:about=\"http://example.org/uni2/course/4\">\\n        <ns1:isGivenAt rdf:resource=\"http://example.org/uni2/university\"/>\\n        <ns1:title rdf:datatype=\"http://www.w3.org/2001/XMLSchema#string\">Introduction to programming</ns1:title>\\n        <rdf:type rdf:resource=\"http://example.org/voc#Course\"/>\\n      </owl:NamedIndividual>\\n    </ns1:givesLecture>\\n    <ns2:firstName rdf:datatype=\"http://www.w3.org/2001/XMLSchema#string\">Kellie</ns2:firstName>\\n    <rdf:type rdf:resource=\"http://example.org/voc#AssociateProfessor\"/>\\n    <ns1:givesLecture rdf:resource=\"http://example.org/uni2/course/6\"/>\\n    <ns1:givesLecture>\\n      <owl:NamedIndividual rdf:about=\"http://example.org/uni2/course/3\">\\n        <ns1:isGivenAt rdf:resource=\"http://example.org/uni2/university\"/>\\n        <ns1:title rdf:datatype=\"http://www.w3.org/2001/XMLSchema#string\">Software process management</ns1:title>\\n        <rdf:type rdf:resource=\"http://example.org/voc#Course\"/>\\n      </owl:NamedIndividual>\\n    </ns1:givesLecture>\\n    <rdf:type rdf:resource=\"http://www.w3.org/2002/07/owl#NamedIndividual\"/>\\n  </ns2:Person>\\n  <ns1:AssistantProfessor rdf:about=\"http://example.org/uni2/person/8\">\\n    <ns1:givesLab>\\n      <ns1:Course rdf:about=\"http://example.org/uni2/course/5\">\\n        <rdf:type rdf:resource=\"http://www.w3.org/2002/07/owl#NamedIndividual\"/>\\n        <ns1:title rdf:datatype=\"http://www.w3.org/2001/XMLSchema#string\">Discrete mathematics and logic</ns1:title>\\n        <ns1:isGivenAt rdf:resource=\"http://example.org/uni2/university\"/>\\n      </ns1:Course>\\n    </ns1:givesLab>\\n    <ns2:firstName rdf:datatype=\"http://www.w3.org/2001/XMLSchema#string\">Sueann</ns2:firstName>\\n    <ns2:lastName rdf:datatype=\"http://www.w3.org/2001/XMLSchema#string\">Samora</ns2:lastName>\\n    <rdf:type rdf:resource=\"http://xmlns.com/foaf/0.1/Person\"/>\\n    <ns1:givesLecture>\\n      <owl:NamedIndividual rdf:about=\"http://example.org/uni2/course/2\">\\n        <ns1:title rdf:datatype=\"http://www.w3.org/2001/XMLSchema#string\">Software factory</ns1:title>\\n        <rdf:type rdf:resource=\"http://example.org/voc#Course\"/>\\n        <ns1:isGivenAt rdf:resource=\"http://example.org/uni2/university\"/>\\n      </owl:NamedIndividual>\\n    </ns1:givesLecture>\\n    <rdf:type rdf:resource=\"http://www.w3.org/2002/07/owl#NamedIndividual\"/>\\n    <ns1:givesLab rdf:resource=\"http://example.org/uni2/course/3\"/>\\n  </ns1:AssistantProfessor>\\n  <ns1:UndergraduateStudent rdf:about=\"http://example.org/uni2/person/2\">\\n    <ns1:attends rdf:resource=\"http://example.org/uni2/course/5\"/>\\n    <ns2:firstName rdf:datatype=\"http://www.w3.org/2001/XMLSchema#string\">Mattie</ns2:firstName>\\n    <rdf:type rdf:resource=\"http://www.w3.org/2002/07/owl#NamedIndividual\"/>\\n    <ns2:lastName rdf:datatype=\"http://www.w3.org/2001/XMLSchema#string\">Moses</ns2:lastName>\\n    <ns1:attends>\\n      <ns1:Course rdf:about=\"http://example.org/uni2/course/1\">\\n        <ns1:isGivenAt rdf:resource=\"http://example.org/uni2/university\"/>\\n        <rdf:type rdf:resource=\"http://www.w3.org/2002/07/owl#NamedIndividual\"/>\\n        <ns1:title rdf:datatype=\"http://www.w3.org/2001/XMLSchema#string\">Information security</ns1:title>\\n      </ns1:Course>\\n    </ns1:attends>\\n    <rdf:type rdf:resource=\"http://xmlns.com/foaf/0.1/Person\"/>\\n  </ns1:UndergraduateStudent>\\n  <ns1:Student rdf:about=\"http://example.org/uni1/student/2\">\\n    <ns1:attends>\\n      <ns1:Course rdf:about=\"http://example.org/uni1/course/1235\">\\n        <ns1:isGivenAt rdf:resource=\"http://example.org/uni1/university\"/>\\n        <rdf:type rdf:resource=\"http://www.w3.org/2002/07/owl#NamedIndividual\"/>\\n        <ns1:title>Analysis</ns1:title>\\n      </ns1:Course>\\n    </ns1:attends>\\n    <ns2:firstName rdf:datatype=\"http://www.w3.org/2001/XMLSchema#string\">John</ns2:firstName>\\n    <rdf:type rdf:resource=\"http://www.w3.org/2002/07/owl#NamedIndividual\"/>\\n    <ns1:attends rdf:resource=\"http://example.org/uni1/course/1234\"/>\\n    <ns2:lastName rdf:datatype=\"http://www.w3.org/2001/XMLSchema#string\">Doe</ns2:lastName>\\n  </ns1:Student>\\n  <ns1:UndergraduateStudent rdf:about=\"http://example.org/uni2/person/10\">\\n    <ns2:lastName rdf:datatype=\"http://www.w3.org/2001/XMLSchema#string\">Alfaro</ns2:lastName>\\n    <ns1:attends rdf:resource=\"http://example.org/uni2/course/4\"/>\\n    <rdf:type rdf:resource=\"http://xmlns.com/foaf/0.1/Person\"/>\\n    <ns2:firstName rdf:datatype=\"http://www.w3.org/2001/XMLSchema#string\">Larry</ns2:firstName>\\n    <rdf:type rdf:resource=\"http://www.w3.org/2002/07/owl#NamedIndividual\"/>\\n  </ns1:UndergraduateStudent>\\n  <ns1:Student rdf:about=\"http://example.org/uni1/student/1\">\\n    <rdf:type rdf:resource=\"http://www.w3.org/2002/07/owl#NamedIndividual\"/>\\n    <ns1:attends rdf:resource=\"http://example.org/uni1/course/1235\"/>\\n    <ns2:firstName rdf:datatype=\"http://www.w3.org/2001/XMLSchema#string\">Mary</ns2:firstName>\\n    <ns1:attends rdf:resource=\"http://example.org/uni1/course/1234\"/>\\n    <ns1:attends rdf:resource=\"http://example.org/uni1/course/1236\"/>\\n    <ns2:lastName rdf:datatype=\"http://www.w3.org/2001/XMLSchema#string\">Smith</ns2:lastName>\\n  </ns1:Student>\\n  <owl:NamedIndividual rdf:about=\"http://example.org/uni1/academic/13\">\\n    <ns2:firstName rdf:datatype=\"http://www.w3.org/2001/XMLSchema#string\">Gerard</ns2:firstName>\\n    <rdf:type rdf:resource=\"http://example.org/voc#FacultyMember\"/>\\n    <ns1:teaches rdf:resource=\"http://example.org/uni1/course/1502\"/>\\n    <ns2:lastName rdf:datatype=\"http://www.w3.org/2001/XMLSchema#string\">Cosimo</ns2:lastName>\\n    <rdf:type rdf:resource=\"http://example.org/voc#AssociateProfessor\"/>\\n  </owl:NamedIndividual>\\n  <ns1:AssociateProfessor rdf:about=\"http://example.org/uni2/person/1\">\\n    <ns2:lastName rdf:datatype=\"http://www.w3.org/2001/XMLSchema#string\">Lane</ns2:lastName>\\n    <ns1:givesLecture rdf:resource=\"http://example.org/uni2/course/1\"/>\\n    <rdf:type rdf:resource=\"http://xmlns.com/foaf/0.1/Person\"/>\\n    <ns2:firstName rdf:datatype=\"http://www.w3.org/2001/XMLSchema#string\">Zak</ns2:firstName>\\n    <ns1:givesLecture rdf:resource=\"http://example.org/uni2/course/5\"/>\\n    <rdf:type rdf:resource=\"http://www.w3.org/2002/07/owl#NamedIndividual\"/>\\n  </ns1:AssociateProfessor>\\n  <ns1:FacultyMember rdf:about=\"http://example.org/uni1/academic/4\">\\n    <ns2:firstName rdf:datatype=\"http://www.w3.org/2001/XMLSchema#string\">Priscilla</ns2:firstName>\\n    <ns1:teaches rdf:resource=\"http://example.org/uni1/course/1236\"/>\\n    <rdf:type rdf:resource=\"http://www.w3.org/2002/07/owl#NamedIndividual\"/>\\n    <rdf:type rdf:resource=\"http://example.org/voc#AssociateProfessor\"/>\\n    <ns2:lastName rdf:datatype=\"http://www.w3.org/2001/XMLSchema#string\">Hildr</ns2:lastName>\\n  </ns1:FacultyMember>\\n  <ns1:FacultyMember rdf:about=\"http://example.org/uni1/academic/8\">\\n    <ns2:firstName rdf:datatype=\"http://www.w3.org/2001/XMLSchema#string\">Alois</ns2:firstName>\\n    <ns2:lastName rdf:datatype=\"http://www.w3.org/2001/XMLSchema#string\">Jayant</ns2:lastName>\\n    <rdf:type rdf:resource=\"http://www.w3.org/2002/07/owl#NamedIndividual\"/>\\n    <ns1:teaches rdf:resource=\"http://example.org/uni1/course/1236\"/>\\n  </ns1:FacultyMember>\\n  <ns1:FacultyMember rdf:about=\"http://example.org/uni1/academic/12\">\\n    <ns2:firstName rdf:datatype=\"http://www.w3.org/2001/XMLSchema#string\">Kyler</ns2:firstName>\\n    <rdf:type rdf:resource=\"http://example.org/voc#FullProfessor\"/>\\n    <ns1:teaches rdf:resource=\"http://example.org/uni1/course/1500\"/>\\n    <rdf:type rdf:resource=\"http://www.w3.org/2002/07/owl#NamedIndividual\"/>\\n    <ns2:lastName rdf:datatype=\"http://www.w3.org/2001/XMLSchema#string\">Josephina</ns2:lastName>\\n    <ns1:teaches rdf:resource=\"http://example.org/uni1/course/1501\"/>\\n  </ns1:FacultyMember>\\n  <ns1:FacultyMember rdf:about=\"http://example.org/uni1/academic/6\">\\n    <rdf:type rdf:resource=\"http://www.w3.org/2002/07/owl#NamedIndividual\"/>\\n    <ns2:firstName rdf:datatype=\"http://www.w3.org/2001/XMLSchema#string\">Nathaniel</ns2:firstName>\\n    <ns2:lastName rdf:datatype=\"http://www.w3.org/2001/XMLSchema#string\">Abolfazl</ns2:lastName>\\n  </ns1:FacultyMember>\\n  <ns1:FacultyMember rdf:about=\"http://example.org/uni1/academic/14\">\\n    <ns2:lastName rdf:datatype=\"http://www.w3.org/2001/XMLSchema#string\">Attilio</ns2:lastName>\\n    <ns1:teaches rdf:resource=\"http://example.org/uni1/course/1501\"/>\\n    <ns2:firstName rdf:datatype=\"http://www.w3.org/2001/XMLSchema#string\">Karine</ns2:firstName>\\n    <rdf:type rdf:resource=\"http://www.w3.org/2002/07/owl#NamedIndividual\"/>\\n  </ns1:FacultyMember>\\n  <owl:NamedIndividual rdf:about=\"http://example.org/uni2/person/5\">\\n    <rdf:type rdf:resource=\"http://xmlns.com/foaf/0.1/Person\"/>\\n    <ns1:givesLab rdf:resource=\"http://example.org/uni2/course/2\"/>\\n    <ns2:lastName rdf:datatype=\"http://www.w3.org/2001/XMLSchema#string\">Merry</ns2:lastName>\\n    <ns2:firstName rdf:datatype=\"http://www.w3.org/2001/XMLSchema#string\">Alvena</ns2:firstName>\\n    <rdf:type rdf:resource=\"http://example.org/voc#PostDoc\"/>\\n  </owl:NamedIndividual>\\n  <owl:ObjectProperty rdf:about=\"http://example.org/voc#attends\"/>\\n  <ns1:GraduateStudent rdf:about=\"http://example.org/uni2/person/9\">\\n    <ns2:firstName rdf:datatype=\"http://www.w3.org/2001/XMLSchema#string\">Billy</ns2:firstName>\\n    <ns1:givesLab rdf:resource=\"http://example.org/uni2/course/4\"/>\\n    <rdf:type rdf:resource=\"http://xmlns.com/foaf/0.1/Person\"/>\\n    <rdf:type rdf:resource=\"http://www.w3.org/2002/07/owl#NamedIndividual\"/>\\n    <ns1:attends rdf:resource=\"http://example.org/uni2/course/2\"/>\\n    <ns2:lastName rdf:datatype=\"http://www.w3.org/2001/XMLSchema#string\">Hinkley</ns2:lastName>\\n  </ns1:GraduateStudent>\\n  <owl:Ontology rdf:nodeID=\"ub1bL7C1\"/>\\n  <owl:ObjectProperty rdf:about=\"http://example.org/voc#givesLecture\"/>\\n  <owl:DatatypeProperty rdf:about=\"http://example.org/voc#title\"/>\\n  <owl:ObjectProperty rdf:about=\"http://example.org/voc#isGivenAt\"/>\\n  <ns1:FacultyMember rdf:about=\"http://example.org/uni1/academic/10\">\\n    <rdf:type rdf:resource=\"http://example.org/voc#ExternalTeacher\"/>\\n    <ns2:lastName rdf:datatype=\"http://www.w3.org/2001/XMLSchema#string\">Heinrike</ns2:lastName>\\n    <rdf:type rdf:resource=\"http://www.w3.org/2002/07/owl#NamedIndividual\"/>\\n    <ns2:firstName rdf:datatype=\"http://www.w3.org/2001/XMLSchema#string\">Udi</ns2:firstName>\\n  </ns1:FacultyMember>\\n  <ns1:ExternalTeacher rdf:about=\"http://example.org/uni1/academic/3\">\\n    <ns2:firstName rdf:datatype=\"http://www.w3.org/2001/XMLSchema#string\">Rachel</ns2:firstName>\\n    <rdf:type rdf:resource=\"http://example.org/voc#FacultyMember\"/>\\n    <ns1:teaches rdf:resource=\"http://example.org/uni1/course/1235\"/>\\n    <rdf:type rdf:resource=\"http://www.w3.org/2002/07/owl#NamedIndividual\"/>\\n    <ns2:lastName rdf:datatype=\"http://www.w3.org/2001/XMLSchema#string\">Ward</ns2:lastName>\\n  </ns1:ExternalTeacher>\\n  <owl:NamedIndividual rdf:about=\"http://example.org/uni1/academic/2\">\\n    <rdf:type rdf:resource=\"http://example.org/voc#PostDoc\"/>\\n    <ns1:teaches rdf:resource=\"http://example.org/uni1/course/1234\"/>\\n    <ns1:teaches rdf:resource=\"http://example.org/uni1/course/1500\"/>\\n    <ns2:firstName rdf:datatype=\"http://www.w3.org/2001/XMLSchema#string\">Edward</ns2:firstName>\\n    <ns2:lastName rdf:datatype=\"http://www.w3.org/2001/XMLSchema#string\">May</ns2:lastName>\\n    <rdf:type rdf:resource=\"http://example.org/voc#FacultyMember\"/>\\n  </owl:NamedIndividual>\\n  <ns1:FullProfessor rdf:about=\"http://example.org/uni1/academic/1\">\\n    <rdf:type rdf:resource=\"http://www.w3.org/2002/07/owl#NamedIndividual\"/>\\n    <ns2:firstName rdf:datatype=\"http://www.w3.org/2001/XMLSchema#string\">Anna</ns2:firstName>\\n    <ns1:teaches rdf:resource=\"http://example.org/uni1/course/1234\"/>\\n    <ns2:lastName rdf:datatype=\"http://www.w3.org/2001/XMLSchema#string\">Chambers</ns2:lastName>\\n    <rdf:type rdf:resource=\"http://example.org/voc#FacultyMember\"/>\\n    <ns1:teaches rdf:resource=\"http://example.org/uni1/course/1235\"/>\\n  </ns1:FullProfessor>\\n  <owl:DatatypeProperty rdf:about=\"http://xmlns.com/foaf/0.1/lastName\"/>\\n  <ns1:Student rdf:about=\"http://example.org/uni1/student/4\">\\n    <ns2:firstName rdf:datatype=\"http://www.w3.org/2001/XMLSchema#string\">Billy</ns2:firstName>\\n    <ns2:lastName rdf:datatype=\"http://www.w3.org/2001/XMLSchema#string\">Hinkley</ns2:lastName>\\n    <ns1:attends rdf:resource=\"http://example.org/uni1/course/1500\"/>\\n    <ns1:attends rdf:resource=\"http://example.org/uni1/course/1501\"/>\\n    <rdf:type rdf:resource=\"http://www.w3.org/2002/07/owl#NamedIndividual\"/>\\n  </ns1:Student>\\n  <owl:NamedIndividual rdf:about=\"http://example.org/uni2/person/3\">\\n    <ns1:attends rdf:resource=\"http://example.org/uni2/course/2\"/>\\n    <ns1:attends rdf:resource=\"http://example.org/uni2/course/3\"/>\\n    <ns2:lastName rdf:datatype=\"http://www.w3.org/2001/XMLSchema#string\">Mendez</ns2:lastName>\\n    <ns2:firstName rdf:datatype=\"http://www.w3.org/2001/XMLSchema#string\">C\\xc3\\xa9line</ns2:firstName>\\n    <ns1:givesLab rdf:resource=\"http://example.org/uni2/course/1\"/>\\n    <rdf:type rdf:resource=\"http://example.org/voc#GraduateStudent\"/>\\n    <rdf:type rdf:resource=\"http://xmlns.com/foaf/0.1/Person\"/>\\n  </owl:NamedIndividual>\\n  <owl:DatatypeProperty rdf:about=\"http://xmlns.com/foaf/0.1/firstName\"/>\\n  <owl:ObjectProperty rdf:about=\"http://example.org/voc#givesLab\"/>\\n  <owl:ObjectProperty rdf:about=\"http://example.org/voc#teaches\"/>\\n  <owl:Class rdf:about=\"http://example.org/voc#GraduateStudent\"/>\\n  <owl:Class rdf:about=\"http://example.org/voc#FacultyMember\"/>\\n  <owl:Class rdf:about=\"http://xmlns.com/foaf/0.1/Person\"/>\\n  <owl:Class rdf:about=\"http://example.org/voc#ExternalTeacher\"/>\\n  <owl:Class rdf:about=\"http://example.org/voc#AssociateProfessor\"/>\\n  <owl:NamedIndividual rdf:about=\"http://example.org/uni2/university\"/>\\n  <owl:Class rdf:about=\"http://example.org/voc#Course\"/>\\n  <owl:Class rdf:about=\"http://example.org/voc#UndergraduateStudent\"/>\\n  <owl:Class rdf:about=\"http://example.org/voc#FullProfessor\"/>\\n  <owl:Class rdf:about=\"http://example.org/voc#PostDoc\"/>\\n  <owl:NamedIndividual rdf:about=\"http://example.org/uni1/university\"/>\\n  <owl:Class rdf:about=\"http://example.org/voc#Student\"/>\\n  <owl:Class rdf:about=\"http://example.org/voc#AssistantProfessor\"/>\\n</rdf:RDF>\\n'\n"
     ]
    }
   ],
   "source": [
    "print(g1.serialize(format='pretty-xml'))\n",
    "#tutaj wprowadź rozwiązanie zadania 1"
   ]
  },
  {
   "cell_type": "markdown",
   "metadata": {
    "colab_type": "text",
    "id": "E0iUlBxRuCwr"
   },
   "source": [
    "# Iterowanie po trójkach w grafie \n",
    "\n",
    "Możemy także iterować po trójkach w grafie jak pokazane poniżej:\n"
   ]
  },
  {
   "cell_type": "code",
   "execution_count": 7,
   "metadata": {
    "colab": {},
    "colab_type": "code",
    "id": "zzR6CnONuCwt"
   },
   "outputs": [
    {
     "name": "stdout",
     "output_type": "stream",
     "text": [
      "http://example.org/uni1/student/5 http://example.org/voc#attends http://example.org/uni1/course/1500\n",
      "http://example.org/uni1/academic/5 http://xmlns.com/foaf/0.1/lastName Richmal\n",
      "http://example.org/uni1/academic/9 http://xmlns.com/foaf/0.1/lastName Chernobog\n",
      "http://example.org/uni2/person/11 http://www.w3.org/1999/02/22-rdf-syntax-ns#type http://xmlns.com/foaf/0.1/Person\n",
      "http://example.org/uni2/person/6 http://xmlns.com/foaf/0.1/firstName Victor\n",
      "http://example.org/uni1/course/1234 http://example.org/voc#isGivenAt http://example.org/uni1/university\n",
      "http://example.org/uni2/course/6 http://example.org/voc#title Intelligent Systems\n",
      "http://example.org/uni2/course/5 http://example.org/voc#isGivenAt http://example.org/uni2/university\n",
      "http://example.org/voc#GraduateStudent http://www.w3.org/1999/02/22-rdf-syntax-ns#type http://www.w3.org/2002/07/owl#Class\n",
      "http://example.org/uni2/person/4 http://xmlns.com/foaf/0.1/firstName Rachel\n",
      "http://example.org/uni1/academic/7 http://www.w3.org/1999/02/22-rdf-syntax-ns#type http://www.w3.org/2002/07/owl#NamedIndividual\n",
      "http://example.org/uni1/academic/11 http://www.w3.org/1999/02/22-rdf-syntax-ns#type http://example.org/voc#FacultyMember\n",
      "http://example.org/uni1/student/3 http://example.org/voc#attends http://example.org/uni1/course/1236\n",
      "http://example.org/uni2/person/7 http://www.w3.org/1999/02/22-rdf-syntax-ns#type http://example.org/voc#AssociateProfessor\n",
      "http://example.org/uni2/person/8 http://www.w3.org/1999/02/22-rdf-syntax-ns#type http://www.w3.org/2002/07/owl#NamedIndividual\n",
      "http://example.org/uni1/academic/9 http://example.org/voc#teaches http://example.org/uni1/course/1236\n",
      "http://example.org/uni2/person/2 http://xmlns.com/foaf/0.1/firstName Mattie\n",
      "http://example.org/uni1/course/1502 http://www.w3.org/1999/02/22-rdf-syntax-ns#type http://www.w3.org/2002/07/owl#NamedIndividual\n",
      "http://example.org/uni1/student/2 http://xmlns.com/foaf/0.1/firstName John\n",
      "http://example.org/uni2/person/10 http://example.org/voc#attends http://example.org/uni2/course/4\n",
      "http://example.org/uni2/person/2 http://www.w3.org/1999/02/22-rdf-syntax-ns#type http://www.w3.org/2002/07/owl#NamedIndividual\n",
      "http://example.org/uni1/student/1 http://www.w3.org/1999/02/22-rdf-syntax-ns#type http://example.org/voc#Student\n",
      "http://example.org/uni2/person/7 http://www.w3.org/1999/02/22-rdf-syntax-ns#type http://xmlns.com/foaf/0.1/Person\n",
      "http://example.org/uni1/course/1236 http://example.org/voc#isGivenAt http://example.org/uni1/university\n",
      "http://example.org/uni1/academic/13 http://xmlns.com/foaf/0.1/firstName Gerard\n",
      "http://example.org/uni2/person/1 http://example.org/voc#givesLecture http://example.org/uni2/course/1\n",
      "http://example.org/voc#FacultyMember http://www.w3.org/1999/02/22-rdf-syntax-ns#type http://www.w3.org/2002/07/owl#Class\n",
      "http://example.org/uni1/academic/4 http://www.w3.org/1999/02/22-rdf-syntax-ns#type http://example.org/voc#FacultyMember\n",
      "http://example.org/uni1/student/3 http://xmlns.com/foaf/0.1/lastName Combs\n",
      "http://example.org/uni1/course/1234 http://example.org/voc#title Linear Algebra\n",
      "http://example.org/uni2/course/1 http://example.org/voc#isGivenAt http://example.org/uni2/university\n",
      "http://example.org/uni1/academic/8 http://xmlns.com/foaf/0.1/firstName Alois\n",
      "http://example.org/uni2/person/4 http://www.w3.org/1999/02/22-rdf-syntax-ns#type http://example.org/voc#AssistantProfessor\n",
      "http://example.org/uni1/academic/12 http://www.w3.org/1999/02/22-rdf-syntax-ns#type http://example.org/voc#FullProfessor\n",
      "http://example.org/uni1/academic/6 http://www.w3.org/1999/02/22-rdf-syntax-ns#type http://www.w3.org/2002/07/owl#NamedIndividual\n",
      "http://example.org/uni2/person/2 http://xmlns.com/foaf/0.1/lastName Moses\n",
      "http://example.org/uni1/academic/14 http://xmlns.com/foaf/0.1/firstName Karine\n",
      "http://example.org/uni1/academic/4 http://www.w3.org/1999/02/22-rdf-syntax-ns#type http://example.org/voc#AssociateProfessor\n",
      "http://example.org/uni1/academic/9 http://xmlns.com/foaf/0.1/firstName Torborg\n",
      "http://example.org/uni1/academic/4 http://xmlns.com/foaf/0.1/lastName Hildr\n",
      "http://example.org/uni2/person/5 http://www.w3.org/1999/02/22-rdf-syntax-ns#type http://www.w3.org/2002/07/owl#NamedIndividual\n",
      "http://example.org/voc#attends http://www.w3.org/1999/02/22-rdf-syntax-ns#type http://www.w3.org/2002/07/owl#ObjectProperty\n",
      "http://example.org/uni1/course/1235 http://example.org/voc#isGivenAt http://example.org/uni1/university\n",
      "http://example.org/uni1/course/1501 http://example.org/voc#title Theory of Computing\n",
      "http://example.org/uni2/person/8 http://example.org/voc#givesLab http://example.org/uni2/course/5\n",
      "http://example.org/uni2/person/9 http://www.w3.org/1999/02/22-rdf-syntax-ns#type http://example.org/voc#GraduateStudent\n",
      "http://example.org/uni2/person/1 http://www.w3.org/1999/02/22-rdf-syntax-ns#type http://example.org/voc#AssociateProfessor\n",
      "http://example.org/uni2/person/9 http://www.w3.org/1999/02/22-rdf-syntax-ns#type http://xmlns.com/foaf/0.1/Person\n",
      "http://example.org/uni1/course/1502 http://example.org/voc#title Research Methods\n",
      "http://example.org/uni1/student/2 http://xmlns.com/foaf/0.1/lastName Doe\n",
      "http://example.org/uni1/academic/6 http://www.w3.org/1999/02/22-rdf-syntax-ns#type http://example.org/voc#FacultyMember\n",
      "ub1bL7C1 http://www.w3.org/1999/02/22-rdf-syntax-ns#type http://www.w3.org/2002/07/owl#Ontology\n",
      "http://example.org/uni2/course/4 http://www.w3.org/1999/02/22-rdf-syntax-ns#type http://example.org/voc#Course\n",
      "http://example.org/voc#givesLecture http://www.w3.org/1999/02/22-rdf-syntax-ns#type http://www.w3.org/2002/07/owl#ObjectProperty\n",
      "http://xmlns.com/foaf/0.1/Person http://www.w3.org/1999/02/22-rdf-syntax-ns#type http://www.w3.org/2002/07/owl#Class\n",
      "http://example.org/uni1/academic/12 http://example.org/voc#teaches http://example.org/uni1/course/1501\n",
      "http://example.org/voc#title http://www.w3.org/1999/02/22-rdf-syntax-ns#type http://www.w3.org/2002/07/owl#DatatypeProperty\n",
      "http://example.org/uni1/academic/6 http://xmlns.com/foaf/0.1/firstName Nathaniel\n",
      "http://example.org/uni1/academic/14 http://example.org/voc#teaches http://example.org/uni1/course/1501\n",
      "http://example.org/uni1/course/1234 http://www.w3.org/1999/02/22-rdf-syntax-ns#type http://example.org/voc#Course\n",
      "http://example.org/uni1/student/2 http://example.org/voc#attends http://example.org/uni1/course/1234\n",
      "http://example.org/uni2/person/10 http://www.w3.org/1999/02/22-rdf-syntax-ns#type http://xmlns.com/foaf/0.1/Person\n",
      "http://example.org/uni2/course/4 http://example.org/voc#isGivenAt http://example.org/uni2/university\n",
      "http://example.org/voc#isGivenAt http://www.w3.org/1999/02/22-rdf-syntax-ns#type http://www.w3.org/2002/07/owl#ObjectProperty\n",
      "http://example.org/uni1/academic/10 http://www.w3.org/1999/02/22-rdf-syntax-ns#type http://example.org/voc#ExternalTeacher\n",
      "http://example.org/uni1/academic/3 http://xmlns.com/foaf/0.1/firstName Rachel\n",
      "http://example.org/uni1/academic/2 http://xmlns.com/foaf/0.1/firstName Edward\n",
      "http://example.org/uni1/academic/7 http://example.org/voc#teaches http://example.org/uni1/course/1501\n",
      "http://example.org/uni2/course/3 http://example.org/voc#title Software process management\n",
      "http://example.org/uni2/course/5 http://www.w3.org/1999/02/22-rdf-syntax-ns#type http://example.org/voc#Course\n",
      "http://example.org/uni1/academic/1 http://www.w3.org/1999/02/22-rdf-syntax-ns#type http://example.org/voc#FullProfessor\n",
      "http://example.org/uni2/person/6 http://www.w3.org/1999/02/22-rdf-syntax-ns#type http://example.org/voc#FullProfessor\n",
      "http://example.org/uni1/academic/14 http://xmlns.com/foaf/0.1/lastName Attilio\n",
      "http://example.org/uni1/academic/12 http://www.w3.org/1999/02/22-rdf-syntax-ns#type http://www.w3.org/2002/07/owl#NamedIndividual\n",
      "http://example.org/uni2/course/3 http://www.w3.org/1999/02/22-rdf-syntax-ns#type http://example.org/voc#Course\n",
      "http://example.org/uni1/academic/11 http://www.w3.org/1999/02/22-rdf-syntax-ns#type http://example.org/voc#PostDoc\n",
      "http://example.org/uni1/academic/2 http://example.org/voc#teaches http://example.org/uni1/course/1500\n",
      "http://example.org/uni1/academic/9 http://www.w3.org/1999/02/22-rdf-syntax-ns#type http://example.org/voc#FacultyMember\n",
      "http://example.org/uni1/student/1 http://example.org/voc#attends http://example.org/uni1/course/1236\n",
      "http://example.org/uni1/academic/14 http://www.w3.org/1999/02/22-rdf-syntax-ns#type http://www.w3.org/2002/07/owl#NamedIndividual\n",
      "http://xmlns.com/foaf/0.1/lastName http://www.w3.org/1999/02/22-rdf-syntax-ns#type http://www.w3.org/2002/07/owl#DatatypeProperty\n",
      "http://example.org/uni1/student/1 http://www.w3.org/1999/02/22-rdf-syntax-ns#type http://www.w3.org/2002/07/owl#NamedIndividual\n",
      "http://example.org/uni2/course/1 http://www.w3.org/1999/02/22-rdf-syntax-ns#type http://example.org/voc#Course\n",
      "http://example.org/uni1/course/1501 http://example.org/voc#isGivenAt http://example.org/uni1/university\n",
      "http://example.org/uni1/course/1235 http://www.w3.org/1999/02/22-rdf-syntax-ns#type http://example.org/voc#Course\n",
      "http://example.org/uni1/academic/13 http://www.w3.org/1999/02/22-rdf-syntax-ns#type http://www.w3.org/2002/07/owl#NamedIndividual\n",
      "http://example.org/uni1/student/1 http://xmlns.com/foaf/0.1/firstName Mary\n",
      "http://example.org/uni1/academic/7 http://www.w3.org/1999/02/22-rdf-syntax-ns#type http://example.org/voc#FacultyMember\n",
      "http://example.org/uni2/course/3 http://example.org/voc#isGivenAt http://example.org/uni2/university\n",
      "http://example.org/voc#ExternalTeacher http://www.w3.org/1999/02/22-rdf-syntax-ns#type http://www.w3.org/2002/07/owl#Class\n",
      "http://example.org/uni2/person/4 http://www.w3.org/1999/02/22-rdf-syntax-ns#type http://www.w3.org/2002/07/owl#NamedIndividual\n",
      "http://example.org/voc#AssociateProfessor http://www.w3.org/1999/02/22-rdf-syntax-ns#type http://www.w3.org/2002/07/owl#Class\n",
      "http://example.org/uni2/person/7 http://example.org/voc#givesLecture http://example.org/uni2/course/3\n",
      "http://example.org/uni2/person/7 http://example.org/voc#givesLecture http://example.org/uni2/course/6\n",
      "http://example.org/uni1/student/4 http://example.org/voc#attends http://example.org/uni1/course/1500\n",
      "http://example.org/uni1/academic/10 http://www.w3.org/1999/02/22-rdf-syntax-ns#type http://www.w3.org/2002/07/owl#NamedIndividual\n",
      "http://example.org/uni1/student/1 http://example.org/voc#attends http://example.org/uni1/course/1235\n",
      "http://example.org/uni1/academic/1 http://xmlns.com/foaf/0.1/lastName Chambers\n",
      "http://example.org/uni1/course/1234 http://www.w3.org/1999/02/22-rdf-syntax-ns#type http://www.w3.org/2002/07/owl#NamedIndividual\n",
      "http://example.org/uni1/academic/3 http://www.w3.org/1999/02/22-rdf-syntax-ns#type http://example.org/voc#ExternalTeacher\n",
      "http://example.org/uni1/course/1500 http://example.org/voc#title Data Mining\n",
      "http://example.org/uni2/person/10 http://xmlns.com/foaf/0.1/firstName Larry\n",
      "http://example.org/uni1/course/1501 http://www.w3.org/1999/02/22-rdf-syntax-ns#type http://www.w3.org/2002/07/owl#NamedIndividual\n",
      "http://example.org/uni1/academic/2 http://www.w3.org/1999/02/22-rdf-syntax-ns#type http://www.w3.org/2002/07/owl#NamedIndividual\n",
      "http://example.org/uni1/academic/6 http://xmlns.com/foaf/0.1/lastName Abolfazl\n",
      "http://example.org/uni1/student/4 http://xmlns.com/foaf/0.1/lastName Hinkley\n",
      "http://example.org/uni2/person/11 http://www.w3.org/1999/02/22-rdf-syntax-ns#type http://www.w3.org/2002/07/owl#NamedIndividual\n",
      "http://example.org/uni2/person/11 http://xmlns.com/foaf/0.1/lastName Sims\n",
      "http://example.org/uni2/person/7 http://xmlns.com/foaf/0.1/lastName Griffin\n",
      "http://example.org/uni2/person/8 http://www.w3.org/1999/02/22-rdf-syntax-ns#type http://xmlns.com/foaf/0.1/Person\n",
      "http://example.org/uni2/course/5 http://www.w3.org/1999/02/22-rdf-syntax-ns#type http://www.w3.org/2002/07/owl#NamedIndividual\n",
      "http://example.org/uni2/person/2 http://example.org/voc#attends http://example.org/uni2/course/1\n",
      "http://example.org/uni2/course/5 http://example.org/voc#title Discrete mathematics and logic\n",
      "http://example.org/uni2/person/3 http://example.org/voc#attends http://example.org/uni2/course/2\n",
      "http://example.org/uni2/person/2 http://www.w3.org/1999/02/22-rdf-syntax-ns#type http://xmlns.com/foaf/0.1/Person\n",
      "http://example.org/uni2/person/5 http://www.w3.org/1999/02/22-rdf-syntax-ns#type http://example.org/voc#PostDoc\n",
      "http://example.org/uni1/course/1236 http://www.w3.org/1999/02/22-rdf-syntax-ns#type http://www.w3.org/2002/07/owl#NamedIndividual\n",
      "http://example.org/uni1/academic/1 http://www.w3.org/1999/02/22-rdf-syntax-ns#type http://www.w3.org/2002/07/owl#NamedIndividual\n",
      "http://example.org/uni2/person/6 http://www.w3.org/1999/02/22-rdf-syntax-ns#type http://www.w3.org/2002/07/owl#NamedIndividual\n",
      "http://example.org/uni2/person/7 http://www.w3.org/1999/02/22-rdf-syntax-ns#type http://www.w3.org/2002/07/owl#NamedIndividual\n",
      "http://example.org/uni2/course/3 http://www.w3.org/1999/02/22-rdf-syntax-ns#type http://www.w3.org/2002/07/owl#NamedIndividual\n",
      "http://example.org/uni2/course/2 http://www.w3.org/1999/02/22-rdf-syntax-ns#type http://example.org/voc#Course\n",
      "http://example.org/uni1/student/3 http://example.org/voc#attends http://example.org/uni1/course/1234\n",
      "http://example.org/uni2/person/8 http://xmlns.com/foaf/0.1/lastName Samora\n",
      "http://example.org/uni1/academic/13 http://example.org/voc#teaches http://example.org/uni1/course/1502\n",
      "http://xmlns.com/foaf/0.1/firstName http://www.w3.org/1999/02/22-rdf-syntax-ns#type http://www.w3.org/2002/07/owl#DatatypeProperty\n",
      "http://example.org/uni2/person/5 http://example.org/voc#givesLab http://example.org/uni2/course/2\n",
      "http://example.org/uni2/course/1 http://www.w3.org/1999/02/22-rdf-syntax-ns#type http://www.w3.org/2002/07/owl#NamedIndividual\n",
      "http://example.org/uni1/course/1235 http://www.w3.org/1999/02/22-rdf-syntax-ns#type http://www.w3.org/2002/07/owl#NamedIndividual\n",
      "http://example.org/uni2/university http://www.w3.org/1999/02/22-rdf-syntax-ns#type http://www.w3.org/2002/07/owl#NamedIndividual\n",
      "http://example.org/uni2/course/1 http://example.org/voc#title Information security\n",
      "http://example.org/uni2/person/5 http://www.w3.org/1999/02/22-rdf-syntax-ns#type http://xmlns.com/foaf/0.1/Person\n",
      "http://example.org/uni1/academic/3 http://www.w3.org/1999/02/22-rdf-syntax-ns#type http://www.w3.org/2002/07/owl#NamedIndividual\n",
      "http://example.org/uni2/person/9 http://xmlns.com/foaf/0.1/firstName Billy\n",
      "http://example.org/voc#givesLab http://www.w3.org/1999/02/22-rdf-syntax-ns#type http://www.w3.org/2002/07/owl#ObjectProperty\n",
      "http://example.org/voc#Course http://www.w3.org/1999/02/22-rdf-syntax-ns#type http://www.w3.org/2002/07/owl#Class\n",
      "http://example.org/voc#UndergraduateStudent http://www.w3.org/1999/02/22-rdf-syntax-ns#type http://www.w3.org/2002/07/owl#Class\n",
      "http://example.org/uni2/person/9 http://www.w3.org/1999/02/22-rdf-syntax-ns#type http://www.w3.org/2002/07/owl#NamedIndividual\n",
      "http://example.org/uni2/person/2 http://example.org/voc#attends http://example.org/uni2/course/5\n",
      "http://example.org/uni1/student/4 http://www.w3.org/1999/02/22-rdf-syntax-ns#type http://example.org/voc#Student\n",
      "http://example.org/uni2/person/1 http://www.w3.org/1999/02/22-rdf-syntax-ns#type http://www.w3.org/2002/07/owl#NamedIndividual\n",
      "http://example.org/uni1/academic/12 http://xmlns.com/foaf/0.1/firstName Kyler\n",
      "http://example.org/uni2/person/10 http://xmlns.com/foaf/0.1/lastName Alfaro\n",
      "http://example.org/uni2/course/2 http://example.org/voc#isGivenAt http://example.org/uni2/university\n",
      "http://example.org/voc#FullProfessor http://www.w3.org/1999/02/22-rdf-syntax-ns#type http://www.w3.org/2002/07/owl#Class\n",
      "http://example.org/uni1/academic/5 http://www.w3.org/1999/02/22-rdf-syntax-ns#type http://www.w3.org/2002/07/owl#NamedIndividual\n",
      "http://example.org/uni1/student/2 http://www.w3.org/1999/02/22-rdf-syntax-ns#type http://www.w3.org/2002/07/owl#NamedIndividual\n",
      "http://example.org/uni1/course/1500 http://www.w3.org/1999/02/22-rdf-syntax-ns#type http://example.org/voc#Course\n",
      "http://example.org/uni2/course/6 http://www.w3.org/1999/02/22-rdf-syntax-ns#type http://example.org/voc#Course\n",
      "http://example.org/uni1/academic/1 http://example.org/voc#teaches http://example.org/uni1/course/1235\n",
      "http://example.org/uni1/course/1236 http://example.org/voc#title Operating Systems\n",
      "http://example.org/uni1/academic/12 http://www.w3.org/1999/02/22-rdf-syntax-ns#type http://example.org/voc#FacultyMember\n",
      "http://example.org/uni1/student/2 http://www.w3.org/1999/02/22-rdf-syntax-ns#type http://example.org/voc#Student\n",
      "http://example.org/uni2/person/1 http://xmlns.com/foaf/0.1/firstName Zak\n",
      "http://example.org/uni1/academic/14 http://www.w3.org/1999/02/22-rdf-syntax-ns#type http://example.org/voc#FacultyMember\n",
      "http://example.org/uni2/course/4 http://www.w3.org/1999/02/22-rdf-syntax-ns#type http://www.w3.org/2002/07/owl#NamedIndividual\n",
      "http://example.org/uni2/person/3 http://example.org/voc#attends http://example.org/uni2/course/3\n",
      "http://example.org/uni2/person/4 http://xmlns.com/foaf/0.1/lastName Ward\n",
      "http://example.org/uni2/person/8 http://example.org/voc#givesLab http://example.org/uni2/course/3\n",
      "http://example.org/uni1/student/5 http://xmlns.com/foaf/0.1/firstName Alison\n",
      "http://example.org/uni2/course/6 http://example.org/voc#isGivenAt http://example.org/uni2/university\n",
      "http://example.org/uni2/person/3 http://example.org/voc#givesLab http://example.org/uni2/course/1\n",
      "http://example.org/uni2/person/9 http://xmlns.com/foaf/0.1/lastName Hinkley\n",
      "http://example.org/voc#PostDoc http://www.w3.org/1999/02/22-rdf-syntax-ns#type http://www.w3.org/2002/07/owl#Class\n",
      "http://example.org/uni1/academic/2 http://xmlns.com/foaf/0.1/lastName May\n",
      "http://example.org/uni2/course/2 http://example.org/voc#title Software factory\n",
      "http://example.org/uni1/academic/10 http://xmlns.com/foaf/0.1/lastName Heinrike\n",
      "http://example.org/uni1/academic/13 http://www.w3.org/1999/02/22-rdf-syntax-ns#type http://example.org/voc#FacultyMember\n",
      "http://example.org/uni1/course/1500 http://example.org/voc#isGivenAt http://example.org/uni1/university\n",
      "http://example.org/uni1/academic/11 http://xmlns.com/foaf/0.1/lastName Merry\n",
      "http://example.org/uni1/academic/3 http://example.org/voc#teaches http://example.org/uni1/course/1235\n",
      "http://example.org/uni2/person/3 http://www.w3.org/1999/02/22-rdf-syntax-ns#type http://www.w3.org/2002/07/owl#NamedIndividual\n",
      "http://example.org/uni2/person/7 http://xmlns.com/foaf/0.1/firstName Kellie\n",
      "http://example.org/uni1/student/4 http://example.org/voc#attends http://example.org/uni1/course/1501\n",
      "http://example.org/uni1/student/5 http://www.w3.org/1999/02/22-rdf-syntax-ns#type http://www.w3.org/2002/07/owl#NamedIndividual\n",
      "http://example.org/voc#teaches http://www.w3.org/1999/02/22-rdf-syntax-ns#type http://www.w3.org/2002/07/owl#ObjectProperty\n",
      "http://example.org/uni1/academic/10 http://www.w3.org/1999/02/22-rdf-syntax-ns#type http://example.org/voc#FacultyMember\n",
      "http://example.org/uni1/academic/2 http://www.w3.org/1999/02/22-rdf-syntax-ns#type http://example.org/voc#PostDoc\n",
      "http://example.org/uni1/academic/8 http://www.w3.org/1999/02/22-rdf-syntax-ns#type http://www.w3.org/2002/07/owl#NamedIndividual\n",
      "http://example.org/uni2/person/11 http://xmlns.com/foaf/0.1/firstName John\n",
      "http://example.org/uni1/course/1236 http://www.w3.org/1999/02/22-rdf-syntax-ns#type http://example.org/voc#Course\n",
      "http://example.org/uni1/student/5 http://www.w3.org/1999/02/22-rdf-syntax-ns#type http://example.org/voc#Student\n",
      "http://example.org/uni1/academic/13 http://xmlns.com/foaf/0.1/lastName Cosimo\n",
      "http://example.org/uni1/student/1 http://example.org/voc#attends http://example.org/uni1/course/1234\n",
      "http://example.org/uni1/academic/2 http://www.w3.org/1999/02/22-rdf-syntax-ns#type http://example.org/voc#FacultyMember\n",
      "http://example.org/uni2/person/4 http://www.w3.org/1999/02/22-rdf-syntax-ns#type http://xmlns.com/foaf/0.1/Person\n",
      "http://example.org/uni1/academic/7 http://xmlns.com/foaf/0.1/firstName Sergei\n",
      "http://example.org/uni1/course/1502 http://example.org/voc#isGivenAt http://example.org/uni1/university\n",
      "http://example.org/uni2/person/1 http://xmlns.com/foaf/0.1/lastName Lane\n",
      "http://example.org/uni2/person/9 http://example.org/voc#attends http://example.org/uni2/course/2\n",
      "http://example.org/uni1/academic/1 http://www.w3.org/1999/02/22-rdf-syntax-ns#type http://example.org/voc#FacultyMember\n",
      "http://example.org/uni2/person/8 http://example.org/voc#givesLecture http://example.org/uni2/course/2\n",
      "http://example.org/uni1/academic/8 http://xmlns.com/foaf/0.1/lastName Jayant\n",
      "http://example.org/uni1/academic/8 http://example.org/voc#teaches http://example.org/uni1/course/1236\n",
      "http://example.org/uni1/academic/3 http://xmlns.com/foaf/0.1/lastName Ward\n",
      "http://example.org/uni1/university http://www.w3.org/1999/02/22-rdf-syntax-ns#type http://www.w3.org/2002/07/owl#NamedIndividual\n",
      "http://example.org/uni2/person/8 http://xmlns.com/foaf/0.1/firstName Sueann\n",
      "http://example.org/uni1/student/4 http://xmlns.com/foaf/0.1/firstName Billy\n",
      "http://example.org/uni1/student/4 http://www.w3.org/1999/02/22-rdf-syntax-ns#type http://www.w3.org/2002/07/owl#NamedIndividual\n",
      "http://example.org/uni2/person/6 http://www.w3.org/1999/02/22-rdf-syntax-ns#type http://xmlns.com/foaf/0.1/Person\n",
      "http://example.org/uni1/academic/4 http://www.w3.org/1999/02/22-rdf-syntax-ns#type http://www.w3.org/2002/07/owl#NamedIndividual\n",
      "http://example.org/uni1/student/3 http://www.w3.org/1999/02/22-rdf-syntax-ns#type http://www.w3.org/2002/07/owl#NamedIndividual\n",
      "http://example.org/uni2/person/5 http://xmlns.com/foaf/0.1/lastName Merry\n",
      "http://example.org/uni2/person/9 http://example.org/voc#givesLab http://example.org/uni2/course/4\n",
      "http://example.org/voc#Student http://www.w3.org/1999/02/22-rdf-syntax-ns#type http://www.w3.org/2002/07/owl#Class\n",
      "http://example.org/uni1/academic/3 http://www.w3.org/1999/02/22-rdf-syntax-ns#type http://example.org/voc#FacultyMember\n",
      "http://example.org/uni1/student/3 http://www.w3.org/1999/02/22-rdf-syntax-ns#type http://example.org/voc#Student\n",
      "http://example.org/uni2/person/8 http://www.w3.org/1999/02/22-rdf-syntax-ns#type http://example.org/voc#AssistantProfessor\n",
      "http://example.org/uni1/student/1 http://xmlns.com/foaf/0.1/lastName Smith\n",
      "http://example.org/uni2/person/7 http://example.org/voc#givesLecture http://example.org/uni2/course/4\n",
      "http://example.org/uni2/person/5 http://xmlns.com/foaf/0.1/firstName Alvena\n",
      "http://example.org/uni2/person/10 http://www.w3.org/1999/02/22-rdf-syntax-ns#type http://www.w3.org/2002/07/owl#NamedIndividual\n",
      "http://example.org/uni2/course/2 http://www.w3.org/1999/02/22-rdf-syntax-ns#type http://www.w3.org/2002/07/owl#NamedIndividual\n",
      "http://example.org/uni1/academic/4 http://example.org/voc#teaches http://example.org/uni1/course/1236\n",
      "http://example.org/uni1/academic/5 http://www.w3.org/1999/02/22-rdf-syntax-ns#type http://example.org/voc#FacultyMember\n",
      "http://example.org/uni2/person/3 http://xmlns.com/foaf/0.1/lastName Mendez\n",
      "http://example.org/uni2/person/4 http://example.org/voc#givesLab http://example.org/uni2/course/6\n",
      "http://example.org/uni2/person/3 http://xmlns.com/foaf/0.1/firstName Céline\n",
      "http://example.org/uni1/academic/2 http://example.org/voc#teaches http://example.org/uni1/course/1234\n",
      "http://example.org/uni1/academic/1 http://xmlns.com/foaf/0.1/firstName Anna\n",
      "http://example.org/uni1/student/2 http://example.org/voc#attends http://example.org/uni1/course/1235\n",
      "http://example.org/uni1/course/1502 http://www.w3.org/1999/02/22-rdf-syntax-ns#type http://example.org/voc#Course\n",
      "http://example.org/uni1/academic/12 http://example.org/voc#teaches http://example.org/uni1/course/1500\n",
      "http://example.org/uni1/academic/7 http://xmlns.com/foaf/0.1/lastName Elian\n",
      "http://example.org/uni1/academic/1 http://example.org/voc#teaches http://example.org/uni1/course/1234\n",
      "http://example.org/uni2/person/1 http://www.w3.org/1999/02/22-rdf-syntax-ns#type http://xmlns.com/foaf/0.1/Person\n",
      "http://example.org/uni1/student/3 http://xmlns.com/foaf/0.1/firstName Franck\n",
      "http://example.org/uni1/academic/12 http://xmlns.com/foaf/0.1/lastName Josephina\n",
      "http://example.org/voc#AssistantProfessor http://www.w3.org/1999/02/22-rdf-syntax-ns#type http://www.w3.org/2002/07/owl#Class\n",
      "http://example.org/uni1/academic/5 http://xmlns.com/foaf/0.1/firstName Zlata\n",
      "http://example.org/uni1/student/5 http://xmlns.com/foaf/0.1/lastName Robards\n",
      "http://example.org/uni1/course/1235 http://example.org/voc#title Analysis\n",
      "http://example.org/uni1/academic/11 http://xmlns.com/foaf/0.1/firstName Alvena\n",
      "http://example.org/uni2/person/6 http://xmlns.com/foaf/0.1/lastName Scott\n",
      "http://example.org/uni2/person/3 http://www.w3.org/1999/02/22-rdf-syntax-ns#type http://xmlns.com/foaf/0.1/Person\n",
      "http://example.org/uni1/academic/13 http://www.w3.org/1999/02/22-rdf-syntax-ns#type http://example.org/voc#AssociateProfessor\n",
      "http://example.org/uni2/person/1 http://example.org/voc#givesLecture http://example.org/uni2/course/5\n",
      "http://example.org/uni2/person/2 http://www.w3.org/1999/02/22-rdf-syntax-ns#type http://example.org/voc#UndergraduateStudent\n",
      "http://example.org/uni1/course/1501 http://www.w3.org/1999/02/22-rdf-syntax-ns#type http://example.org/voc#Course\n",
      "http://example.org/uni1/academic/9 http://www.w3.org/1999/02/22-rdf-syntax-ns#type http://www.w3.org/2002/07/owl#NamedIndividual\n",
      "http://example.org/uni1/academic/8 http://www.w3.org/1999/02/22-rdf-syntax-ns#type http://example.org/voc#FacultyMember\n",
      "http://example.org/uni1/academic/4 http://xmlns.com/foaf/0.1/firstName Priscilla\n",
      "http://example.org/uni1/student/5 http://example.org/voc#attends http://example.org/uni1/course/1502\n",
      "http://example.org/uni1/course/1500 http://www.w3.org/1999/02/22-rdf-syntax-ns#type http://www.w3.org/2002/07/owl#NamedIndividual\n",
      "http://example.org/uni2/course/4 http://example.org/voc#title Introduction to programming\n",
      "http://example.org/uni2/course/6 http://www.w3.org/1999/02/22-rdf-syntax-ns#type http://www.w3.org/2002/07/owl#NamedIndividual\n",
      "http://example.org/uni1/academic/11 http://www.w3.org/1999/02/22-rdf-syntax-ns#type http://www.w3.org/2002/07/owl#NamedIndividual\n",
      "http://example.org/uni1/academic/10 http://xmlns.com/foaf/0.1/firstName Udi\n",
      "http://example.org/uni2/person/3 http://www.w3.org/1999/02/22-rdf-syntax-ns#type http://example.org/voc#GraduateStudent\n",
      "http://example.org/uni2/person/10 http://www.w3.org/1999/02/22-rdf-syntax-ns#type http://example.org/voc#UndergraduateStudent\n"
     ]
    }
   ],
   "source": [
    "for s, p, o in g1:\n",
    "  print(s, p, o)"
   ]
  },
  {
   "cell_type": "markdown",
   "metadata": {
    "colab_type": "text",
    "id": "_69Au3veuCwy"
   },
   "source": [
    "# Przestrzenie nazw"
   ]
  },
  {
   "cell_type": "markdown",
   "metadata": {
    "colab_type": "text",
    "id": "KNQsNXbfuCwz"
   },
   "source": [
    "rdflib pozwala utworzyć własne przestrzenie nazw:"
   ]
  },
  {
   "cell_type": "code",
   "execution_count": 8,
   "metadata": {
    "colab": {},
    "colab_type": "code",
    "id": "YiDig7eouCw0"
   },
   "outputs": [],
   "source": [
    "from rdflib import Namespace\n",
    "n1 = Namespace(\"http://semantic.cs.put.poznan.pl/university/\")"
   ]
  },
  {
   "cell_type": "markdown",
   "metadata": {
    "colab_type": "text",
    "id": "5oLN18ZxuCw4"
   },
   "source": [
    "Przestrzenie nazw, które są zdefiniowane w pakiecie to: RDF, RDFS, OWL, XSD, FOAF, SKOS, DOAP, DC, DCTERMS,VOID"
   ]
  },
  {
   "cell_type": "code",
   "execution_count": 9,
   "metadata": {
    "colab": {},
    "colab_type": "code",
    "id": "sITJxF2wuCw5"
   },
   "outputs": [],
   "source": [
    "from rdflib.namespace import FOAF, DC, RDF"
   ]
  },
  {
   "cell_type": "markdown",
   "metadata": {
    "colab_type": "text",
    "id": "4p-tetuQuCw8"
   },
   "source": [
    "<span style=\"color:red\"> __Zadanie 2: Zaimportuj przestrzeń nazw XSD__ </span>"
   ]
  },
  {
   "cell_type": "code",
   "execution_count": 10,
   "metadata": {
    "colab": {},
    "colab_type": "code",
    "id": "8IHiG2MsuCw9"
   },
   "outputs": [],
   "source": [
    "# tutaj wprowadź rozwiązanie zadania 2\n",
    "from rdflib.namespace import XSD"
   ]
  },
  {
   "cell_type": "markdown",
   "metadata": {
    "colab_type": "text",
    "id": "6dg_0tQJuCxA"
   },
   "source": [
    "# Zasoby"
   ]
  },
  {
   "cell_type": "markdown",
   "metadata": {
    "colab_type": "text",
    "id": "UtZrANrXuCxC"
   },
   "source": [
    "## Reprezentacja podstawowych elementów i ich tworzenie"
   ]
  },
  {
   "cell_type": "markdown",
   "metadata": {
    "colab_type": "text",
    "id": "izwFYxCZuCxD"
   },
   "source": [
    "- URIRef"
   ]
  },
  {
   "cell_type": "markdown",
   "metadata": {
    "colab_type": "text",
    "id": "8f5RT1JruCxE"
   },
   "source": [
    "Poniżej pokazano tworzenie referencji do zasobów (reprezentowanych przez URI)."
   ]
  },
  {
   "cell_type": "code",
   "execution_count": 11,
   "metadata": {
    "colab": {},
    "colab_type": "code",
    "id": "i82EC-pjuCxF"
   },
   "outputs": [],
   "source": [
    "from rdflib import URIRef, BNode, Literal\n",
    "academic1 = URIRef(\"http://example.org/uni1/academic/1\")\n",
    "academic2 = URIRef(\"http://example.org/uni1/academic/2\")\n",
    "teaches = URIRef(\"http://example.org/voc#teaches\")\n",
    "attends = URIRef(\"http://example.org/voc#attends\")\n",
    "course1500 = URIRef(\"http://example.org/uni1/course/1500\")\n",
    "student = URIRef(\"http://example.org/voc#UndergraduateStudent\")\n",
    "student1 = URIRef(\"http://example.org/uni1/student/1\")"
   ]
  },
  {
   "cell_type": "markdown",
   "metadata": {
    "colab_type": "text",
    "id": "0QI2tPPkuCxI"
   },
   "source": [
    "<span style=\"color:red\"> __Zadanie 3: Utwórz następujące zasoby:__ </span>\n",
    "- http://example.org/uni1/academic/1000 \n",
    "- http://example.org/uni2/course/1000\n",
    "\n",
    "        "
   ]
  },
  {
   "cell_type": "code",
   "execution_count": 12,
   "metadata": {
    "colab": {},
    "colab_type": "code",
    "id": "rWe9EQ84uCxJ"
   },
   "outputs": [],
   "source": [
    "academic1000 = URIRef(\"http://example.org/uni1/academic/1000\")\n",
    "course1000 = URIRef(\"http://example.org/uni2/course/1000\")\n",
    "#tutaj wprowadź rozwiązanie zadania 3"
   ]
  },
  {
   "cell_type": "markdown",
   "metadata": {
    "colab_type": "text",
    "id": "V7xwu4MiuCxN"
   },
   "source": [
    "- BNode: węzeł anonimowy"
   ]
  },
  {
   "cell_type": "code",
   "execution_count": 13,
   "metadata": {
    "colab": {},
    "colab_type": "code",
    "id": "pXVMl3RbuCxO"
   },
   "outputs": [],
   "source": [
    "bnode = BNode()"
   ]
  },
  {
   "cell_type": "markdown",
   "metadata": {
    "colab_type": "text",
    "id": "7zlRtyEQuCxQ"
   },
   "source": [
    "• Literal"
   ]
  },
  {
   "cell_type": "code",
   "execution_count": 14,
   "metadata": {
    "colab": {},
    "colab_type": "code",
    "id": "MszyaFw2uCxR"
   },
   "outputs": [],
   "source": [
    "from rdflib.namespace import XSD\n",
    "\n",
    "anna = Literal('Anna', datatype = XSD.string)\n",
    "chambers = Literal('Chambers', datatype = XSD.string)"
   ]
  },
  {
   "cell_type": "markdown",
   "metadata": {
    "colab_type": "text",
    "id": "uviHzWByuCxT"
   },
   "source": [
    "<span style=\"color:red\"> __Zadanie 4: Utwórz następujące literały:__ </span>\n",
    "- 'Jan' (datatype = XSD.string)\n",
    "- 'Kowalski' (datatype = XSD.string)"
   ]
  },
  {
   "cell_type": "code",
   "execution_count": 15,
   "metadata": {
    "colab": {},
    "colab_type": "code",
    "id": "wpbTl7aTuCxc"
   },
   "outputs": [],
   "source": [
    "jan_literal = Literal('Jan', datatype = XSD.string)\n",
    "kowalski_literal = Literal('Kowalski', datatype = XSD.string)\n",
    "# tutaj wprowadź rozwiązanie zadania 4"
   ]
  },
  {
   "cell_type": "markdown",
   "metadata": {
    "colab_type": "text",
    "id": "wjPeFEY2uCxg"
   },
   "source": [
    "# Dodawanie i usuwanie trójek"
   ]
  },
  {
   "cell_type": "markdown",
   "metadata": {
    "colab_type": "text",
    "id": "cxA8AVtGuCxh"
   },
   "source": [
    "- Dodawanie trójek RDF:"
   ]
  },
  {
   "cell_type": "code",
   "execution_count": 16,
   "metadata": {
    "colab": {},
    "colab_type": "code",
    "id": "mCS2IE49uCxi"
   },
   "outputs": [],
   "source": [
    "g1.add((academic1, teaches, course1500))"
   ]
  },
  {
   "cell_type": "markdown",
   "metadata": {
    "colab_type": "text",
    "id": "g6qrXYLFuCxk"
   },
   "source": [
    "<span style=\"color:red\"> __Zadanie 5: dodaj do grafu g1 następującą trójkę: (academic1, FOAF.name, chambers)__ </span>\n"
   ]
  },
  {
   "cell_type": "code",
   "execution_count": 17,
   "metadata": {
    "colab": {},
    "colab_type": "code",
    "id": "hOsxOXUluCxl"
   },
   "outputs": [],
   "source": [
    "g1.add((academic1, FOAF.name, chambers))\n",
    "# tutaj wprowadź rozwiązanie zadania 5"
   ]
  },
  {
   "cell_type": "markdown",
   "metadata": {
    "colab_type": "text",
    "id": "zjo1lJPuuCxo"
   },
   "source": [
    "<span style=\"color:red\"> __Zadanie 6: dodaj do grafu g1 następującą informację: (student1, attends, _bnode1), (_bnode1, title, \"Data Mining\"). Uwaga: _bnode1 może być zastąpiony dowolnym identyfikatorem węzła anonimowego (np. automatycznie wygenerowanym). __ </span>"
   ]
  },
  {
   "cell_type": "code",
   "execution_count": 18,
   "metadata": {
    "colab": {},
    "colab_type": "code",
    "id": "Uv7waKDduCxq"
   },
   "outputs": [],
   "source": [
    "bnode1 = BNode()\n",
    "_bnode1 = BNode()\n",
    "title = URIRef(\"http://example.org/voc#title\")\n",
    "Ldata_mining = Literal(\"Data Mining\", datatype = XSD.string)\n",
    "g1.add((student1, attends, bnode))\n",
    "g1.add((_bnode1, title, Ldata_mining))\n",
    "# tutaj wprowadź rozwiązanie zadania 6"
   ]
  },
  {
   "cell_type": "code",
   "execution_count": 19,
   "metadata": {},
   "outputs": [
    {
     "data": {
      "text/plain": [
       "rdf.namespace.ClosedNamespace('http://xmlns.com/foaf/0.1/')"
      ]
     },
     "execution_count": 19,
     "metadata": {},
     "output_type": "execute_result"
    }
   ],
   "source": [
    "FOAF"
   ]
  },
  {
   "cell_type": "markdown",
   "metadata": {
    "colab_type": "text",
    "id": "dXmBDJKZuCxt"
   },
   "source": [
    "Podobnie możemy usunąć trójkę/trójki:"
   ]
  },
  {
   "cell_type": "code",
   "execution_count": 20,
   "metadata": {
    "colab": {},
    "colab_type": "code",
    "id": "XsLNywzMuCxu"
   },
   "outputs": [],
   "source": [
    "g1.remove( (academic2, None, None) )"
   ]
  },
  {
   "cell_type": "markdown",
   "metadata": {
    "colab_type": "text",
    "id": "-CdyQI2vuCxw"
   },
   "source": [
    "# Odczyt grafu"
   ]
  },
  {
   "cell_type": "markdown",
   "metadata": {
    "colab_type": "text",
    "id": "qvQiHM8nuCxx"
   },
   "source": [
    "- Odczyt trójki z grafu"
   ]
  },
  {
   "cell_type": "markdown",
   "metadata": {
    "colab_type": "text",
    "id": "s0zYs873uCxy"
   },
   "source": [
    "Grafy RDFLib wspierają podstawowe dopasowywanie wzorców za pomocą funkcji triples(). Ta funkcja jest generatorem trójek, które można dopasować do wzorca określonego przez argumenty. Termy __None__ są traktowane jako wildcard, np:"
   ]
  },
  {
   "cell_type": "code",
   "execution_count": 21,
   "metadata": {
    "colab": {},
    "colab_type": "code",
    "id": "V97CwwsGuCxy"
   },
   "outputs": [
    {
     "name": "stdout",
     "output_type": "stream",
     "text": [
      "http://example.org/uni2/person/4 jest osobą\n",
      "http://example.org/uni2/person/11 jest osobą\n",
      "http://example.org/uni2/person/9 jest osobą\n",
      "http://example.org/uni2/person/1 jest osobą\n",
      "http://example.org/uni2/person/10 jest osobą\n",
      "http://example.org/uni2/person/6 jest osobą\n",
      "http://example.org/uni2/person/8 jest osobą\n",
      "http://example.org/uni2/person/2 jest osobą\n",
      "http://example.org/uni2/person/7 jest osobą\n",
      "http://example.org/uni2/person/5 jest osobą\n",
      "http://example.org/uni2/person/3 jest osobą\n"
     ]
    }
   ],
   "source": [
    "for s,p,o in g1.triples( (None, RDF.type, FOAF.Person) ):\n",
    "   print(\"%s jest osobą\"%s)"
   ]
  },
  {
   "cell_type": "markdown",
   "metadata": {
    "colab_type": "text",
    "id": "rUosvejouCx1"
   },
   "source": [
    "Odczyt podmiotu"
   ]
  },
  {
   "cell_type": "code",
   "execution_count": 22,
   "metadata": {
    "colab": {},
    "colab_type": "code",
    "id": "jELOPMtvuCx1"
   },
   "outputs": [
    {
     "name": "stdout",
     "output_type": "stream",
     "text": [
      "http://example.org/uni2/person/2 jest studentem\n",
      "http://example.org/uni2/person/10 jest studentem\n"
     ]
    }
   ],
   "source": [
    "# podmioty dla danego typu\n",
    "for person in g1.subjects(RDF.type, student):\n",
    "   print(\"%s jest studentem\"%person)"
   ]
  },
  {
   "cell_type": "markdown",
   "metadata": {
    "colab_type": "text",
    "id": "kISqwp3QuCx3"
   },
   "source": [
    "Odczyt predykatu"
   ]
  },
  {
   "cell_type": "code",
   "execution_count": 23,
   "metadata": {
    "colab": {},
    "colab_type": "code",
    "id": "LEfo765wuCx4"
   },
   "outputs": [
    {
     "name": "stdout",
     "output_type": "stream",
     "text": [
      "http://example.org/voc#attends\n",
      "http://xmlns.com/foaf/0.1/firstName\n",
      "http://example.org/voc#attends\n",
      "http://www.w3.org/1999/02/22-rdf-syntax-ns#type\n",
      "http://example.org/voc#attends\n",
      "http://www.w3.org/1999/02/22-rdf-syntax-ns#type\n",
      "http://example.org/voc#attends\n",
      "http://xmlns.com/foaf/0.1/lastName\n"
     ]
    }
   ],
   "source": [
    "# predykaty dla podmiotu i obiektu\n",
    "for pred in g1.predicates(student1, None): \n",
    "   print(pred)"
   ]
  },
  {
   "cell_type": "code",
   "execution_count": 24,
   "metadata": {},
   "outputs": [
    {
     "name": "stdout",
     "output_type": "stream",
     "text": [
      "lab-rdf.ipynb  test.jpg  university.ttl\n"
     ]
    }
   ],
   "source": [
    "!ls"
   ]
  },
  {
   "cell_type": "code",
   "execution_count": 25,
   "metadata": {
    "colab": {},
    "colab_type": "code",
    "id": "xvut80UDuCx6"
   },
   "outputs": [
    {
     "name": "stdout",
     "output_type": "stream",
     "text": [
      "Mary\n"
     ]
    }
   ],
   "source": [
    "# obiekty dla podmiotu i predykatu\n",
    "first_name = URIRef(\"http://xmlns.com/foaf/0.1/firstName\")\n",
    "# gr = g1.objects(student1, first_name)\n",
    "# print(type(gr)) # albo\n",
    "# print([x for x in g1.objects(student1, first_name)])\n",
    "\n",
    "print(g1.value(student1, first_name))"
   ]
  },
  {
   "cell_type": "markdown",
   "metadata": {
    "colab_type": "text",
    "id": "RAsS2RmkuCx7"
   },
   "source": [
    "<span style=\"color:red\"> __Zadanie 7: z grafu g1 odczytaj nazwy (http://example.org/voc#title) wszystkich kursów (instancji typu http://example.org/voc#Course)__ </span>"
   ]
  },
  {
   "cell_type": "code",
   "execution_count": 26,
   "metadata": {
    "colab": {},
    "colab_type": "code",
    "id": "K7sbAtPluCx8"
   },
   "outputs": [
    {
     "name": "stdout",
     "output_type": "stream",
     "text": [
      "Analysis\n",
      "Research Methods\n",
      "Operating Systems\n",
      "Linear Algebra\n",
      "Theory of Computing\n",
      "Software process management\n",
      "Data Mining\n",
      "Introduction to programming\n",
      "Discrete mathematics and logic\n",
      "Software factory\n",
      "Information security\n",
      "Intelligent Systems\n"
     ]
    }
   ],
   "source": [
    "for course in g1.subjects(RDF.type, URIRef(\"http://example.org/voc#Course\")):\n",
    "    print(g1.value(course, title))\n",
    "# tutaj wprowadź rozwiązanie zadania 7"
   ]
  },
  {
   "cell_type": "markdown",
   "metadata": {
    "colab_type": "text",
    "id": "BIfRQN1auCx-"
   },
   "source": [
    "<span style=\"color:red\"> __Zadanie 8: z grafu g1 odczytaj wszystkich członków wydziału (instancji typu http://example.org/voc#FacultyMember) którzy uczą (http://example.org/voc#teaches) kursu http://example.org/uni1/course/1500 __ </span>   "
   ]
  },
  {
   "cell_type": "code",
   "execution_count": 27,
   "metadata": {
    "colab": {},
    "colab_type": "code",
    "id": "n5eQRE5juCx-"
   },
   "outputs": [],
   "source": [
    "# tutaj wprowadź rozwiązanie zadania 8"
   ]
  },
  {
   "cell_type": "code",
   "execution_count": 28,
   "metadata": {},
   "outputs": [
    {
     "name": "stdout",
     "output_type": "stream",
     "text": [
      "http://example.org/uni1/academic/12: Kyler Josephina\n",
      "http://example.org/uni1/academic/1: Anna Chambers\n"
     ]
    }
   ],
   "source": [
    "for fmember in g1.subjects(RDF.type, URIRef(\"http://example.org/voc#FacultyMember\")):\n",
    "    for s,p,o in g1.triples((fmember, URIRef(\"http://example.org/voc#teaches\"), course1500)):\n",
    "        print(\"{}: {} {}\".format(s, g1.value(s, first_name), g1.value(s, URIRef(\"http://xmlns.com/foaf/0.1/lastName\"))))"
   ]
  },
  {
   "cell_type": "code",
   "execution_count": 29,
   "metadata": {},
   "outputs": [
    {
     "name": "stdout",
     "output_type": "stream",
     "text": [
      "http://example.org/uni1/student/5 http://example.org/voc#attends http://example.org/uni1/course/1500\n",
      "http://example.org/uni1/academic/5 http://xmlns.com/foaf/0.1/lastName Richmal\n",
      "http://example.org/uni1/academic/9 http://xmlns.com/foaf/0.1/lastName Chernobog\n",
      "http://example.org/uni2/person/11 http://www.w3.org/1999/02/22-rdf-syntax-ns#type http://xmlns.com/foaf/0.1/Person\n",
      "http://example.org/uni2/person/6 http://xmlns.com/foaf/0.1/firstName Victor\n",
      "http://example.org/uni1/course/1234 http://example.org/voc#isGivenAt http://example.org/uni1/university\n",
      "http://example.org/uni2/course/6 http://example.org/voc#title Intelligent Systems\n",
      "http://example.org/uni2/course/5 http://example.org/voc#isGivenAt http://example.org/uni2/university\n",
      "http://example.org/voc#GraduateStudent http://www.w3.org/1999/02/22-rdf-syntax-ns#type http://www.w3.org/2002/07/owl#Class\n",
      "http://example.org/uni2/person/4 http://xmlns.com/foaf/0.1/firstName Rachel\n",
      "http://example.org/uni1/academic/7 http://www.w3.org/1999/02/22-rdf-syntax-ns#type http://www.w3.org/2002/07/owl#NamedIndividual\n",
      "http://example.org/uni1/academic/11 http://www.w3.org/1999/02/22-rdf-syntax-ns#type http://example.org/voc#FacultyMember\n",
      "http://example.org/uni1/student/3 http://example.org/voc#attends http://example.org/uni1/course/1236\n",
      "http://example.org/uni2/person/7 http://www.w3.org/1999/02/22-rdf-syntax-ns#type http://example.org/voc#AssociateProfessor\n",
      "http://example.org/uni2/person/8 http://www.w3.org/1999/02/22-rdf-syntax-ns#type http://www.w3.org/2002/07/owl#NamedIndividual\n",
      "http://example.org/uni1/academic/9 http://example.org/voc#teaches http://example.org/uni1/course/1236\n",
      "http://example.org/uni2/person/2 http://xmlns.com/foaf/0.1/firstName Mattie\n",
      "http://example.org/uni1/course/1502 http://www.w3.org/1999/02/22-rdf-syntax-ns#type http://www.w3.org/2002/07/owl#NamedIndividual\n",
      "http://example.org/uni1/student/2 http://xmlns.com/foaf/0.1/firstName John\n",
      "http://example.org/uni2/person/10 http://example.org/voc#attends http://example.org/uni2/course/4\n",
      "http://example.org/uni2/person/2 http://www.w3.org/1999/02/22-rdf-syntax-ns#type http://www.w3.org/2002/07/owl#NamedIndividual\n",
      "http://example.org/uni1/student/1 http://www.w3.org/1999/02/22-rdf-syntax-ns#type http://example.org/voc#Student\n",
      "http://example.org/uni2/person/7 http://www.w3.org/1999/02/22-rdf-syntax-ns#type http://xmlns.com/foaf/0.1/Person\n",
      "http://example.org/uni1/academic/1 http://example.org/voc#teaches http://example.org/uni1/course/1500\n",
      "http://example.org/uni1/course/1236 http://example.org/voc#isGivenAt http://example.org/uni1/university\n",
      "http://example.org/uni1/academic/13 http://xmlns.com/foaf/0.1/firstName Gerard\n",
      "http://example.org/uni2/person/1 http://example.org/voc#givesLecture http://example.org/uni2/course/1\n",
      "http://example.org/voc#FacultyMember http://www.w3.org/1999/02/22-rdf-syntax-ns#type http://www.w3.org/2002/07/owl#Class\n",
      "http://example.org/uni1/academic/4 http://www.w3.org/1999/02/22-rdf-syntax-ns#type http://example.org/voc#FacultyMember\n",
      "http://example.org/uni1/student/3 http://xmlns.com/foaf/0.1/lastName Combs\n",
      "http://example.org/uni1/course/1234 http://example.org/voc#title Linear Algebra\n",
      "http://example.org/uni2/course/1 http://example.org/voc#isGivenAt http://example.org/uni2/university\n",
      "http://example.org/uni1/academic/8 http://xmlns.com/foaf/0.1/firstName Alois\n",
      "http://example.org/uni2/person/4 http://www.w3.org/1999/02/22-rdf-syntax-ns#type http://example.org/voc#AssistantProfessor\n",
      "http://example.org/uni1/academic/12 http://www.w3.org/1999/02/22-rdf-syntax-ns#type http://example.org/voc#FullProfessor\n",
      "http://example.org/uni1/academic/6 http://www.w3.org/1999/02/22-rdf-syntax-ns#type http://www.w3.org/2002/07/owl#NamedIndividual\n",
      "http://example.org/uni2/person/2 http://xmlns.com/foaf/0.1/lastName Moses\n",
      "http://example.org/uni1/academic/14 http://xmlns.com/foaf/0.1/firstName Karine\n",
      "http://example.org/uni1/academic/1 http://xmlns.com/foaf/0.1/name Chambers\n",
      "http://example.org/uni1/academic/4 http://www.w3.org/1999/02/22-rdf-syntax-ns#type http://example.org/voc#AssociateProfessor\n",
      "http://example.org/uni1/academic/9 http://xmlns.com/foaf/0.1/firstName Torborg\n",
      "http://example.org/uni1/academic/4 http://xmlns.com/foaf/0.1/lastName Hildr\n",
      "http://example.org/uni2/person/5 http://www.w3.org/1999/02/22-rdf-syntax-ns#type http://www.w3.org/2002/07/owl#NamedIndividual\n",
      "http://example.org/voc#attends http://www.w3.org/1999/02/22-rdf-syntax-ns#type http://www.w3.org/2002/07/owl#ObjectProperty\n",
      "http://example.org/uni1/course/1235 http://example.org/voc#isGivenAt http://example.org/uni1/university\n",
      "http://example.org/uni1/course/1501 http://example.org/voc#title Theory of Computing\n",
      "http://example.org/uni2/person/8 http://example.org/voc#givesLab http://example.org/uni2/course/5\n",
      "http://example.org/uni2/person/9 http://www.w3.org/1999/02/22-rdf-syntax-ns#type http://example.org/voc#GraduateStudent\n",
      "http://example.org/uni2/person/1 http://www.w3.org/1999/02/22-rdf-syntax-ns#type http://example.org/voc#AssociateProfessor\n",
      "http://example.org/uni2/person/9 http://www.w3.org/1999/02/22-rdf-syntax-ns#type http://xmlns.com/foaf/0.1/Person\n",
      "http://example.org/uni1/course/1502 http://example.org/voc#title Research Methods\n",
      "http://example.org/uni1/student/2 http://xmlns.com/foaf/0.1/lastName Doe\n",
      "http://example.org/uni1/academic/6 http://www.w3.org/1999/02/22-rdf-syntax-ns#type http://example.org/voc#FacultyMember\n",
      "ub1bL7C1 http://www.w3.org/1999/02/22-rdf-syntax-ns#type http://www.w3.org/2002/07/owl#Ontology\n",
      "http://example.org/uni2/course/4 http://www.w3.org/1999/02/22-rdf-syntax-ns#type http://example.org/voc#Course\n",
      "http://example.org/voc#givesLecture http://www.w3.org/1999/02/22-rdf-syntax-ns#type http://www.w3.org/2002/07/owl#ObjectProperty\n",
      "http://xmlns.com/foaf/0.1/Person http://www.w3.org/1999/02/22-rdf-syntax-ns#type http://www.w3.org/2002/07/owl#Class\n",
      "http://example.org/uni1/academic/12 http://example.org/voc#teaches http://example.org/uni1/course/1501\n",
      "http://example.org/voc#title http://www.w3.org/1999/02/22-rdf-syntax-ns#type http://www.w3.org/2002/07/owl#DatatypeProperty\n",
      "http://example.org/uni1/academic/6 http://xmlns.com/foaf/0.1/firstName Nathaniel\n",
      "http://example.org/uni1/academic/14 http://example.org/voc#teaches http://example.org/uni1/course/1501\n",
      "http://example.org/uni1/course/1234 http://www.w3.org/1999/02/22-rdf-syntax-ns#type http://example.org/voc#Course\n",
      "http://example.org/uni1/student/2 http://example.org/voc#attends http://example.org/uni1/course/1234\n",
      "http://example.org/uni2/person/10 http://www.w3.org/1999/02/22-rdf-syntax-ns#type http://xmlns.com/foaf/0.1/Person\n",
      "http://example.org/uni2/course/4 http://example.org/voc#isGivenAt http://example.org/uni2/university\n",
      "http://example.org/voc#isGivenAt http://www.w3.org/1999/02/22-rdf-syntax-ns#type http://www.w3.org/2002/07/owl#ObjectProperty\n",
      "http://example.org/uni1/academic/10 http://www.w3.org/1999/02/22-rdf-syntax-ns#type http://example.org/voc#ExternalTeacher\n",
      "http://example.org/uni1/academic/3 http://xmlns.com/foaf/0.1/firstName Rachel\n",
      "http://example.org/uni1/academic/7 http://example.org/voc#teaches http://example.org/uni1/course/1501\n",
      "http://example.org/uni2/course/5 http://www.w3.org/1999/02/22-rdf-syntax-ns#type http://example.org/voc#Course\n",
      "http://example.org/uni2/course/3 http://example.org/voc#title Software process management\n",
      "http://example.org/uni1/academic/1 http://www.w3.org/1999/02/22-rdf-syntax-ns#type http://example.org/voc#FullProfessor\n",
      "http://example.org/uni2/person/6 http://www.w3.org/1999/02/22-rdf-syntax-ns#type http://example.org/voc#FullProfessor\n",
      "http://example.org/uni1/academic/14 http://xmlns.com/foaf/0.1/lastName Attilio\n",
      "http://example.org/uni1/academic/12 http://www.w3.org/1999/02/22-rdf-syntax-ns#type http://www.w3.org/2002/07/owl#NamedIndividual\n",
      "http://example.org/uni2/course/3 http://www.w3.org/1999/02/22-rdf-syntax-ns#type http://example.org/voc#Course\n",
      "http://example.org/uni1/academic/11 http://www.w3.org/1999/02/22-rdf-syntax-ns#type http://example.org/voc#PostDoc\n",
      "http://example.org/uni1/academic/9 http://www.w3.org/1999/02/22-rdf-syntax-ns#type http://example.org/voc#FacultyMember\n",
      "http://example.org/uni1/student/1 http://example.org/voc#attends http://example.org/uni1/course/1236\n",
      "http://example.org/uni1/academic/14 http://www.w3.org/1999/02/22-rdf-syntax-ns#type http://www.w3.org/2002/07/owl#NamedIndividual\n",
      "http://xmlns.com/foaf/0.1/lastName http://www.w3.org/1999/02/22-rdf-syntax-ns#type http://www.w3.org/2002/07/owl#DatatypeProperty\n",
      "http://example.org/uni1/student/1 http://www.w3.org/1999/02/22-rdf-syntax-ns#type http://www.w3.org/2002/07/owl#NamedIndividual\n",
      "http://example.org/uni2/course/1 http://www.w3.org/1999/02/22-rdf-syntax-ns#type http://example.org/voc#Course\n",
      "http://example.org/uni1/course/1501 http://example.org/voc#isGivenAt http://example.org/uni1/university\n",
      "http://example.org/uni1/course/1235 http://www.w3.org/1999/02/22-rdf-syntax-ns#type http://example.org/voc#Course\n",
      "http://example.org/uni1/academic/13 http://www.w3.org/1999/02/22-rdf-syntax-ns#type http://www.w3.org/2002/07/owl#NamedIndividual\n",
      "http://example.org/uni1/student/1 http://xmlns.com/foaf/0.1/firstName Mary\n",
      "http://example.org/uni1/academic/7 http://www.w3.org/1999/02/22-rdf-syntax-ns#type http://example.org/voc#FacultyMember\n",
      "http://example.org/uni2/course/3 http://example.org/voc#isGivenAt http://example.org/uni2/university\n",
      "http://example.org/voc#ExternalTeacher http://www.w3.org/1999/02/22-rdf-syntax-ns#type http://www.w3.org/2002/07/owl#Class\n",
      "http://example.org/uni2/person/4 http://www.w3.org/1999/02/22-rdf-syntax-ns#type http://www.w3.org/2002/07/owl#NamedIndividual\n",
      "http://example.org/voc#AssociateProfessor http://www.w3.org/1999/02/22-rdf-syntax-ns#type http://www.w3.org/2002/07/owl#Class\n",
      "http://example.org/uni2/person/7 http://example.org/voc#givesLecture http://example.org/uni2/course/3\n",
      "http://example.org/uni2/person/7 http://example.org/voc#givesLecture http://example.org/uni2/course/6\n",
      "http://example.org/uni1/student/4 http://example.org/voc#attends http://example.org/uni1/course/1500\n",
      "http://example.org/uni1/academic/10 http://www.w3.org/1999/02/22-rdf-syntax-ns#type http://www.w3.org/2002/07/owl#NamedIndividual\n",
      "http://example.org/uni1/student/1 http://example.org/voc#attends http://example.org/uni1/course/1235\n",
      "http://example.org/uni1/academic/1 http://xmlns.com/foaf/0.1/lastName Chambers\n",
      "http://example.org/uni1/course/1234 http://www.w3.org/1999/02/22-rdf-syntax-ns#type http://www.w3.org/2002/07/owl#NamedIndividual\n",
      "http://example.org/uni1/academic/3 http://www.w3.org/1999/02/22-rdf-syntax-ns#type http://example.org/voc#ExternalTeacher\n",
      "http://example.org/uni2/person/10 http://xmlns.com/foaf/0.1/firstName Larry\n",
      "http://example.org/uni1/course/1501 http://www.w3.org/1999/02/22-rdf-syntax-ns#type http://www.w3.org/2002/07/owl#NamedIndividual\n",
      "http://example.org/uni1/academic/6 http://xmlns.com/foaf/0.1/lastName Abolfazl\n",
      "http://example.org/uni1/student/4 http://xmlns.com/foaf/0.1/lastName Hinkley\n",
      "http://example.org/uni2/person/11 http://www.w3.org/1999/02/22-rdf-syntax-ns#type http://www.w3.org/2002/07/owl#NamedIndividual\n",
      "http://example.org/uni2/person/11 http://xmlns.com/foaf/0.1/lastName Sims\n",
      "http://example.org/uni2/person/7 http://xmlns.com/foaf/0.1/lastName Griffin\n",
      "http://example.org/uni2/person/8 http://www.w3.org/1999/02/22-rdf-syntax-ns#type http://xmlns.com/foaf/0.1/Person\n",
      "http://example.org/uni2/course/5 http://www.w3.org/1999/02/22-rdf-syntax-ns#type http://www.w3.org/2002/07/owl#NamedIndividual\n",
      "http://example.org/uni2/person/2 http://example.org/voc#attends http://example.org/uni2/course/1\n",
      "http://example.org/uni2/course/5 http://example.org/voc#title Discrete mathematics and logic\n",
      "http://example.org/uni2/person/3 http://example.org/voc#attends http://example.org/uni2/course/2\n",
      "http://example.org/uni2/person/2 http://www.w3.org/1999/02/22-rdf-syntax-ns#type http://xmlns.com/foaf/0.1/Person\n",
      "http://example.org/uni2/person/5 http://www.w3.org/1999/02/22-rdf-syntax-ns#type http://example.org/voc#PostDoc\n",
      "http://example.org/uni1/course/1236 http://www.w3.org/1999/02/22-rdf-syntax-ns#type http://www.w3.org/2002/07/owl#NamedIndividual\n",
      "http://example.org/uni1/academic/1 http://www.w3.org/1999/02/22-rdf-syntax-ns#type http://www.w3.org/2002/07/owl#NamedIndividual\n",
      "http://example.org/uni2/person/6 http://www.w3.org/1999/02/22-rdf-syntax-ns#type http://www.w3.org/2002/07/owl#NamedIndividual\n",
      "http://example.org/uni2/person/7 http://www.w3.org/1999/02/22-rdf-syntax-ns#type http://www.w3.org/2002/07/owl#NamedIndividual\n",
      "http://example.org/uni2/course/3 http://www.w3.org/1999/02/22-rdf-syntax-ns#type http://www.w3.org/2002/07/owl#NamedIndividual\n",
      "http://example.org/uni2/course/2 http://www.w3.org/1999/02/22-rdf-syntax-ns#type http://example.org/voc#Course\n",
      "http://example.org/uni1/student/3 http://example.org/voc#attends http://example.org/uni1/course/1234\n",
      "http://example.org/uni2/person/8 http://xmlns.com/foaf/0.1/lastName Samora\n",
      "http://example.org/uni1/academic/13 http://example.org/voc#teaches http://example.org/uni1/course/1502\n",
      "http://xmlns.com/foaf/0.1/firstName http://www.w3.org/1999/02/22-rdf-syntax-ns#type http://www.w3.org/2002/07/owl#DatatypeProperty\n",
      "http://example.org/uni2/person/5 http://example.org/voc#givesLab http://example.org/uni2/course/2\n",
      "http://example.org/uni1/student/1 http://example.org/voc#attends N8705d03a03794508a6243bf18b0bfefa\n",
      "http://example.org/uni2/person/10 http://www.w3.org/1999/02/22-rdf-syntax-ns#type http://example.org/voc#UndergraduateStudent\n",
      "http://example.org/uni2/course/1 http://www.w3.org/1999/02/22-rdf-syntax-ns#type http://www.w3.org/2002/07/owl#NamedIndividual\n",
      "http://example.org/uni1/course/1235 http://www.w3.org/1999/02/22-rdf-syntax-ns#type http://www.w3.org/2002/07/owl#NamedIndividual\n",
      "http://example.org/uni2/university http://www.w3.org/1999/02/22-rdf-syntax-ns#type http://www.w3.org/2002/07/owl#NamedIndividual\n",
      "http://example.org/uni2/course/1 http://example.org/voc#title Information security\n",
      "http://example.org/uni2/person/5 http://www.w3.org/1999/02/22-rdf-syntax-ns#type http://xmlns.com/foaf/0.1/Person\n",
      "http://example.org/uni1/academic/3 http://www.w3.org/1999/02/22-rdf-syntax-ns#type http://www.w3.org/2002/07/owl#NamedIndividual\n",
      "http://example.org/uni2/person/9 http://xmlns.com/foaf/0.1/firstName Billy\n",
      "http://example.org/voc#givesLab http://www.w3.org/1999/02/22-rdf-syntax-ns#type http://www.w3.org/2002/07/owl#ObjectProperty\n",
      "http://example.org/voc#Course http://www.w3.org/1999/02/22-rdf-syntax-ns#type http://www.w3.org/2002/07/owl#Class\n",
      "http://example.org/voc#UndergraduateStudent http://www.w3.org/1999/02/22-rdf-syntax-ns#type http://www.w3.org/2002/07/owl#Class\n",
      "http://example.org/uni2/person/9 http://www.w3.org/1999/02/22-rdf-syntax-ns#type http://www.w3.org/2002/07/owl#NamedIndividual\n",
      "http://example.org/uni2/person/2 http://example.org/voc#attends http://example.org/uni2/course/5\n",
      "http://example.org/uni1/student/4 http://www.w3.org/1999/02/22-rdf-syntax-ns#type http://example.org/voc#Student\n",
      "http://example.org/uni2/person/1 http://www.w3.org/1999/02/22-rdf-syntax-ns#type http://www.w3.org/2002/07/owl#NamedIndividual\n",
      "http://example.org/uni1/academic/12 http://xmlns.com/foaf/0.1/firstName Kyler\n",
      "http://example.org/uni2/person/10 http://xmlns.com/foaf/0.1/lastName Alfaro\n",
      "http://example.org/uni2/course/2 http://example.org/voc#isGivenAt http://example.org/uni2/university\n",
      "http://example.org/voc#FullProfessor http://www.w3.org/1999/02/22-rdf-syntax-ns#type http://www.w3.org/2002/07/owl#Class\n",
      "http://example.org/uni1/academic/5 http://www.w3.org/1999/02/22-rdf-syntax-ns#type http://www.w3.org/2002/07/owl#NamedIndividual\n",
      "http://example.org/uni1/student/2 http://www.w3.org/1999/02/22-rdf-syntax-ns#type http://www.w3.org/2002/07/owl#NamedIndividual\n",
      "http://example.org/uni1/course/1500 http://www.w3.org/1999/02/22-rdf-syntax-ns#type http://example.org/voc#Course\n",
      "http://example.org/uni2/course/6 http://www.w3.org/1999/02/22-rdf-syntax-ns#type http://example.org/voc#Course\n",
      "http://example.org/uni1/academic/1 http://example.org/voc#teaches http://example.org/uni1/course/1235\n",
      "http://example.org/uni1/course/1236 http://example.org/voc#title Operating Systems\n",
      "http://example.org/uni1/academic/12 http://www.w3.org/1999/02/22-rdf-syntax-ns#type http://example.org/voc#FacultyMember\n",
      "http://example.org/uni1/student/2 http://www.w3.org/1999/02/22-rdf-syntax-ns#type http://example.org/voc#Student\n",
      "http://example.org/uni2/person/1 http://xmlns.com/foaf/0.1/firstName Zak\n",
      "http://example.org/uni1/academic/14 http://www.w3.org/1999/02/22-rdf-syntax-ns#type http://example.org/voc#FacultyMember\n",
      "http://example.org/uni2/course/4 http://www.w3.org/1999/02/22-rdf-syntax-ns#type http://www.w3.org/2002/07/owl#NamedIndividual\n",
      "http://example.org/uni2/person/3 http://example.org/voc#attends http://example.org/uni2/course/3\n",
      "http://example.org/uni2/person/4 http://xmlns.com/foaf/0.1/lastName Ward\n",
      "http://example.org/uni2/person/8 http://example.org/voc#givesLab http://example.org/uni2/course/3\n",
      "http://example.org/uni1/student/5 http://xmlns.com/foaf/0.1/firstName Alison\n",
      "http://example.org/uni2/course/6 http://example.org/voc#isGivenAt http://example.org/uni2/university\n",
      "http://example.org/uni1/academic/11 http://www.w3.org/1999/02/22-rdf-syntax-ns#type http://www.w3.org/2002/07/owl#NamedIndividual\n",
      "http://example.org/uni2/person/3 http://example.org/voc#givesLab http://example.org/uni2/course/1\n",
      "http://example.org/uni2/person/9 http://xmlns.com/foaf/0.1/lastName Hinkley\n",
      "http://example.org/voc#PostDoc http://www.w3.org/1999/02/22-rdf-syntax-ns#type http://www.w3.org/2002/07/owl#Class\n",
      "http://example.org/uni2/course/2 http://example.org/voc#title Software factory\n",
      "http://example.org/uni1/academic/10 http://xmlns.com/foaf/0.1/lastName Heinrike\n",
      "http://example.org/uni1/academic/13 http://www.w3.org/1999/02/22-rdf-syntax-ns#type http://example.org/voc#FacultyMember\n",
      "http://example.org/uni1/course/1500 http://example.org/voc#isGivenAt http://example.org/uni1/university\n",
      "http://example.org/uni1/academic/11 http://xmlns.com/foaf/0.1/lastName Merry\n",
      "http://example.org/uni1/academic/3 http://example.org/voc#teaches http://example.org/uni1/course/1235\n",
      "http://example.org/uni2/person/3 http://www.w3.org/1999/02/22-rdf-syntax-ns#type http://www.w3.org/2002/07/owl#NamedIndividual\n",
      "http://example.org/uni2/person/7 http://xmlns.com/foaf/0.1/firstName Kellie\n",
      "http://example.org/uni1/student/4 http://example.org/voc#attends http://example.org/uni1/course/1501\n",
      "http://example.org/uni1/student/5 http://www.w3.org/1999/02/22-rdf-syntax-ns#type http://www.w3.org/2002/07/owl#NamedIndividual\n",
      "http://example.org/voc#teaches http://www.w3.org/1999/02/22-rdf-syntax-ns#type http://www.w3.org/2002/07/owl#ObjectProperty\n",
      "http://example.org/uni1/academic/10 http://www.w3.org/1999/02/22-rdf-syntax-ns#type http://example.org/voc#FacultyMember\n",
      "http://example.org/uni1/academic/8 http://www.w3.org/1999/02/22-rdf-syntax-ns#type http://www.w3.org/2002/07/owl#NamedIndividual\n",
      "http://example.org/uni2/person/11 http://xmlns.com/foaf/0.1/firstName John\n",
      "http://example.org/uni1/course/1236 http://www.w3.org/1999/02/22-rdf-syntax-ns#type http://example.org/voc#Course\n",
      "http://example.org/uni1/student/5 http://www.w3.org/1999/02/22-rdf-syntax-ns#type http://example.org/voc#Student\n",
      "http://example.org/uni1/academic/13 http://xmlns.com/foaf/0.1/lastName Cosimo\n",
      "http://example.org/uni1/student/1 http://example.org/voc#attends http://example.org/uni1/course/1234\n",
      "http://example.org/uni2/person/4 http://www.w3.org/1999/02/22-rdf-syntax-ns#type http://xmlns.com/foaf/0.1/Person\n",
      "http://example.org/uni1/academic/7 http://xmlns.com/foaf/0.1/firstName Sergei\n",
      "http://example.org/uni1/course/1502 http://example.org/voc#isGivenAt http://example.org/uni1/university\n",
      "http://example.org/uni2/person/1 http://xmlns.com/foaf/0.1/lastName Lane\n",
      "http://example.org/uni2/person/9 http://example.org/voc#attends http://example.org/uni2/course/2\n",
      "http://example.org/uni1/academic/1 http://www.w3.org/1999/02/22-rdf-syntax-ns#type http://example.org/voc#FacultyMember\n",
      "http://example.org/uni2/person/8 http://example.org/voc#givesLecture http://example.org/uni2/course/2\n",
      "http://example.org/uni1/academic/8 http://xmlns.com/foaf/0.1/lastName Jayant\n",
      "http://example.org/uni1/academic/8 http://example.org/voc#teaches http://example.org/uni1/course/1236\n",
      "http://example.org/uni1/academic/3 http://xmlns.com/foaf/0.1/lastName Ward\n",
      "http://example.org/uni1/university http://www.w3.org/1999/02/22-rdf-syntax-ns#type http://www.w3.org/2002/07/owl#NamedIndividual\n",
      "http://example.org/uni2/person/8 http://xmlns.com/foaf/0.1/firstName Sueann\n",
      "http://example.org/uni1/student/4 http://xmlns.com/foaf/0.1/firstName Billy\n",
      "http://example.org/uni1/student/4 http://www.w3.org/1999/02/22-rdf-syntax-ns#type http://www.w3.org/2002/07/owl#NamedIndividual\n",
      "http://example.org/uni2/person/6 http://www.w3.org/1999/02/22-rdf-syntax-ns#type http://xmlns.com/foaf/0.1/Person\n",
      "http://example.org/uni1/academic/4 http://www.w3.org/1999/02/22-rdf-syntax-ns#type http://www.w3.org/2002/07/owl#NamedIndividual\n",
      "http://example.org/uni1/student/3 http://www.w3.org/1999/02/22-rdf-syntax-ns#type http://www.w3.org/2002/07/owl#NamedIndividual\n",
      "http://example.org/uni2/person/5 http://xmlns.com/foaf/0.1/lastName Merry\n",
      "http://example.org/uni2/person/9 http://example.org/voc#givesLab http://example.org/uni2/course/4\n",
      "http://example.org/voc#Student http://www.w3.org/1999/02/22-rdf-syntax-ns#type http://www.w3.org/2002/07/owl#Class\n",
      "http://example.org/uni1/academic/3 http://www.w3.org/1999/02/22-rdf-syntax-ns#type http://example.org/voc#FacultyMember\n",
      "http://example.org/uni1/student/3 http://www.w3.org/1999/02/22-rdf-syntax-ns#type http://example.org/voc#Student\n",
      "http://example.org/uni2/person/8 http://www.w3.org/1999/02/22-rdf-syntax-ns#type http://example.org/voc#AssistantProfessor\n",
      "http://example.org/uni1/student/1 http://xmlns.com/foaf/0.1/lastName Smith\n",
      "http://example.org/uni2/person/7 http://example.org/voc#givesLecture http://example.org/uni2/course/4\n",
      "http://example.org/uni2/person/5 http://xmlns.com/foaf/0.1/firstName Alvena\n",
      "http://example.org/uni2/person/10 http://www.w3.org/1999/02/22-rdf-syntax-ns#type http://www.w3.org/2002/07/owl#NamedIndividual\n",
      "http://example.org/uni2/course/2 http://www.w3.org/1999/02/22-rdf-syntax-ns#type http://www.w3.org/2002/07/owl#NamedIndividual\n",
      "http://example.org/uni1/academic/4 http://example.org/voc#teaches http://example.org/uni1/course/1236\n",
      "http://example.org/uni1/academic/5 http://www.w3.org/1999/02/22-rdf-syntax-ns#type http://example.org/voc#FacultyMember\n",
      "http://example.org/uni2/person/3 http://xmlns.com/foaf/0.1/lastName Mendez\n",
      "http://example.org/uni2/person/4 http://example.org/voc#givesLab http://example.org/uni2/course/6\n",
      "http://example.org/uni2/person/3 http://xmlns.com/foaf/0.1/firstName Céline\n",
      "http://example.org/uni1/academic/1 http://xmlns.com/foaf/0.1/firstName Anna\n",
      "http://example.org/uni1/student/2 http://example.org/voc#attends http://example.org/uni1/course/1235\n",
      "http://example.org/uni1/course/1502 http://www.w3.org/1999/02/22-rdf-syntax-ns#type http://example.org/voc#Course\n",
      "http://example.org/uni1/academic/12 http://example.org/voc#teaches http://example.org/uni1/course/1500\n",
      "http://example.org/uni1/academic/7 http://xmlns.com/foaf/0.1/lastName Elian\n",
      "http://example.org/uni1/academic/1 http://example.org/voc#teaches http://example.org/uni1/course/1234\n",
      "http://example.org/uni2/person/1 http://www.w3.org/1999/02/22-rdf-syntax-ns#type http://xmlns.com/foaf/0.1/Person\n",
      "http://example.org/uni1/student/3 http://xmlns.com/foaf/0.1/firstName Franck\n",
      "http://example.org/uni1/academic/12 http://xmlns.com/foaf/0.1/lastName Josephina\n",
      "http://example.org/voc#AssistantProfessor http://www.w3.org/1999/02/22-rdf-syntax-ns#type http://www.w3.org/2002/07/owl#Class\n",
      "http://example.org/uni1/academic/5 http://xmlns.com/foaf/0.1/firstName Zlata\n",
      "http://example.org/uni1/student/5 http://xmlns.com/foaf/0.1/lastName Robards\n",
      "http://example.org/uni1/course/1235 http://example.org/voc#title Analysis\n",
      "http://example.org/uni1/academic/11 http://xmlns.com/foaf/0.1/firstName Alvena\n",
      "http://example.org/uni2/person/6 http://xmlns.com/foaf/0.1/lastName Scott\n",
      "N1853de7ffcc34cf79cf4d94721da4cf1 http://example.org/voc#title Data Mining\n",
      "http://example.org/uni1/academic/13 http://www.w3.org/1999/02/22-rdf-syntax-ns#type http://example.org/voc#AssociateProfessor\n",
      "http://example.org/uni2/person/1 http://example.org/voc#givesLecture http://example.org/uni2/course/5\n",
      "http://example.org/uni2/person/2 http://www.w3.org/1999/02/22-rdf-syntax-ns#type http://example.org/voc#UndergraduateStudent\n",
      "http://example.org/uni1/course/1501 http://www.w3.org/1999/02/22-rdf-syntax-ns#type http://example.org/voc#Course\n",
      "http://example.org/uni1/academic/9 http://www.w3.org/1999/02/22-rdf-syntax-ns#type http://www.w3.org/2002/07/owl#NamedIndividual\n",
      "http://example.org/uni1/academic/8 http://www.w3.org/1999/02/22-rdf-syntax-ns#type http://example.org/voc#FacultyMember\n",
      "http://example.org/uni1/academic/4 http://xmlns.com/foaf/0.1/firstName Priscilla\n",
      "http://example.org/uni1/student/5 http://example.org/voc#attends http://example.org/uni1/course/1502\n",
      "http://example.org/uni1/course/1500 http://www.w3.org/1999/02/22-rdf-syntax-ns#type http://www.w3.org/2002/07/owl#NamedIndividual\n",
      "http://example.org/uni2/course/4 http://example.org/voc#title Introduction to programming\n",
      "http://example.org/uni2/course/6 http://www.w3.org/1999/02/22-rdf-syntax-ns#type http://www.w3.org/2002/07/owl#NamedIndividual\n",
      "http://example.org/uni1/course/1500 http://example.org/voc#title Data Mining\n",
      "http://example.org/uni1/academic/10 http://xmlns.com/foaf/0.1/firstName Udi\n",
      "http://example.org/uni2/person/3 http://www.w3.org/1999/02/22-rdf-syntax-ns#type http://example.org/voc#GraduateStudent\n",
      "http://example.org/uni2/person/3 http://www.w3.org/1999/02/22-rdf-syntax-ns#type http://xmlns.com/foaf/0.1/Person\n"
     ]
    }
   ],
   "source": [
    "for s, p, o in g1:\n",
    "  print(s, p, o)"
   ]
  }
 ],
 "metadata": {
  "colab": {
   "collapsed_sections": [],
   "name": "lab-rdf.ipynb",
   "provenance": [],
   "version": "0.3.2"
  },
  "kernelspec": {
   "display_name": "Python 3",
   "language": "python",
   "name": "python3"
  },
  "language_info": {
   "codemirror_mode": {
    "name": "ipython",
    "version": 3
   },
   "file_extension": ".py",
   "mimetype": "text/x-python",
   "name": "python",
   "nbconvert_exporter": "python",
   "pygments_lexer": "ipython3",
   "version": "3.8.5"
  }
 },
 "nbformat": 4,
 "nbformat_minor": 4
}
