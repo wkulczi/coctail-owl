{
 "cells": [
  {
   "cell_type": "markdown",
   "metadata": {},
   "source": [
    "## Cocktail-owl\n",
    "Sieć semantyczna koktaili (na przerwę majową i nie tylko)"
   ]
  },
  {
   "cell_type": "markdown",
   "metadata": {},
   "source": [
    "\n",
    "![](https://i.ibb.co/fdRMryQ/cocktails-easier.png)"
   ]
  },
  {
   "cell_type": "markdown",
   "metadata": {},
   "source": [
    "![](https://i.ibb.co/FKJfWzV/cocktails.png)"
   ]
  },
  {
   "cell_type": "code",
   "execution_count": 15,
   "metadata": {},
   "outputs": [
    {
     "data": {
      "text/plain": [
       "<Graph identifier=Nc46c46e290bf4f74b3510a5039a70f22 (<class 'rdflib.graph.Graph'>)>"
      ]
     },
     "execution_count": 15,
     "metadata": {},
     "output_type": "execute_result"
    }
   ],
   "source": [
    "from rdflib import Graph\n",
    "from rdflib import URIRef, BNode, Literal\n",
    "from rdflib.namespace import FOAF, DC, RDF\n",
    "g = Graph()\n",
    "g.parse('cocktails_alt.owl')"
   ]
  },
  {
   "cell_type": "code",
   "execution_count": 12,
   "metadata": {},
   "outputs": [],
   "source": [
    "namedDrink = URIRef(\"http://semantic.cs.put.poznan.pl/ontologie/cocktails.owl#NamedDrink\")\n"
   ]
  },
  {
   "cell_type": "code",
   "execution_count": 16,
   "metadata": {},
   "outputs": [
    {
     "name": "stdout",
     "output_type": "stream",
     "text": [
      "http://semantic.cs.put.poznan.pl/ontologie/cocktails.owl#Gimlet jest drinkiem\n",
      "http://semantic.cs.put.poznan.pl/ontologie/cocktails.owl#HibiscusElDiablo jest drinkiem\n",
      "http://semantic.cs.put.poznan.pl/ontologie/cocktails.owl#CloverClub jest drinkiem\n",
      "http://semantic.cs.put.poznan.pl/ontologie/cocktails.owl#LilletSpritz jest drinkiem\n",
      "http://semantic.cs.put.poznan.pl/ontologie/cocktails.owl#LaPaloma jest drinkiem\n",
      "http://semantic.cs.put.poznan.pl/ontologie/cocktails.owl#TommysMargherita jest drinkiem\n",
      "http://semantic.cs.put.poznan.pl/ontologie/cocktails.owl#JaegerWineDrink jest drinkiem\n",
      "http://semantic.cs.put.poznan.pl/ontologie/cocktails.owl#IrishCoffee jest drinkiem\n",
      "http://semantic.cs.put.poznan.pl/ontologie/cocktails.owl#PinaColada jest drinkiem\n",
      "http://semantic.cs.put.poznan.pl/ontologie/cocktails.owl#MaiTai jest drinkiem\n",
      "http://semantic.cs.put.poznan.pl/ontologie/cocktails.owl#CranberrySparkler jest drinkiem\n",
      "http://semantic.cs.put.poznan.pl/ontologie/cocktails.owl#JaegerCiderDrink jest drinkiem\n",
      "http://semantic.cs.put.poznan.pl/ontologie/cocktails.owl#CiderMojito jest drinkiem\n",
      "http://semantic.cs.put.poznan.pl/ontologie/cocktails.owl#RamosGinFizz jest drinkiem\n",
      "http://semantic.cs.put.poznan.pl/ontologie/cocktails.owl#JaegerBeerShot jest drinkiem\n",
      "http://semantic.cs.put.poznan.pl/ontologie/cocktails.owl#RussianCoffee jest drinkiem\n",
      "http://semantic.cs.put.poznan.pl/ontologie/cocktails.owl#WhiteRussian jest drinkiem\n",
      "http://semantic.cs.put.poznan.pl/ontologie/cocktails.owl#HankyPanky jest drinkiem\n",
      "http://semantic.cs.put.poznan.pl/ontologie/cocktails.owl#Knickerbocker jest drinkiem\n",
      "http://semantic.cs.put.poznan.pl/ontologie/cocktails.owl#MartiniVenus jest drinkiem\n",
      "http://semantic.cs.put.poznan.pl/ontologie/cocktails.owl#Gibson jest drinkiem\n",
      "http://semantic.cs.put.poznan.pl/ontologie/cocktails.owl#Negroni jest drinkiem\n",
      "http://semantic.cs.put.poznan.pl/ontologie/cocktails.owl#StrawberryLemonade jest drinkiem\n",
      "http://semantic.cs.put.poznan.pl/ontologie/cocktails.owl#BicycletteCocktail jest drinkiem\n",
      "http://semantic.cs.put.poznan.pl/ontologie/cocktails.owl#MartiniVesper jest drinkiem\n",
      "http://semantic.cs.put.poznan.pl/ontologie/cocktails.owl#Bramble jest drinkiem\n",
      "http://semantic.cs.put.poznan.pl/ontologie/cocktails.owl#DirtyMartini jest drinkiem\n",
      "http://semantic.cs.put.poznan.pl/ontologie/cocktails.owl#Martini jest drinkiem\n"
     ]
    }
   ],
   "source": [
    "for s,p,o in g.triples((None, RDF.type,namedDrink)):\n",
    "    print(\"{} jest drinkiem\".format(s))"
   ]
  },
  {
   "cell_type": "code",
   "execution_count": 26,
   "metadata": {},
   "outputs": [],
   "source": [
    "canBeReplacedWith = URIRef(\"http://semantic.cs.put.poznan.pl/ontologie/cocktails.owl#canBeReplacedWith\")\n"
   ]
  },
  {
   "cell_type": "code",
   "execution_count": 30,
   "metadata": {},
   "outputs": [],
   "source": [
    "def crop_to_hash(text):\n",
    "    return text.split('#')[-1]"
   ]
  },
  {
   "cell_type": "code",
   "execution_count": 32,
   "metadata": {},
   "outputs": [
    {
     "name": "stdout",
     "output_type": "stream",
     "text": [
      "AgaveSyrup może zostać zastąpione Honey\n",
      "Vodka może zostać zastąpione WhiteRum\n",
      "EggWhite może zostać zastąpione ChickpeaJuice\n",
      "DarkBeer może zostać zastąpione LightBeer\n",
      "DarkRum może zostać zastąpione GoldenRum\n",
      "Kahlua może zostać zastąpione Coffee\n",
      "Rum może zostać zastąpione DarkRum\n",
      "TikiGlass może zostać zastąpione TumblerGlass\n",
      "Rum może zostać zastąpione GoldenRum\n",
      "Rum może zostać zastąpione Vodka\n",
      "BrownSugar może zostać zastąpione GrindedSugar\n",
      "DarkRum może zostać zastąpione WhiteRum\n"
     ]
    }
   ],
   "source": [
    "for s,p,o in g.triples((None, canBeReplacedWith, None)):\n",
    "    print(\"{} może zostać zastąpione {}\".format(crop_to_hash(s),crop_to_hash(o)))"
   ]
  },
  {
   "cell_type": "code",
   "execution_count": 40,
   "metadata": {},
   "outputs": [
    {
     "name": "stdout",
     "output_type": "stream",
     "text": [
      "Proste drinki na majówkę to: \n",
      "http://semantic.cs.put.poznan.pl/ontologie/cocktails.owl#HankyPanky\n",
      "http://semantic.cs.put.poznan.pl/ontologie/cocktails.owl#MartiniVenus\n",
      "http://semantic.cs.put.poznan.pl/ontologie/cocktails.owl#WhiteRussian\n",
      "http://semantic.cs.put.poznan.pl/ontologie/cocktails.owl#Knickerbocker\n",
      "http://semantic.cs.put.poznan.pl/ontologie/cocktails.owl#Negroni\n",
      "http://semantic.cs.put.poznan.pl/ontologie/cocktails.owl#RussianCoffee\n",
      "http://semantic.cs.put.poznan.pl/ontologie/cocktails.owl#BicycletteCocktail\n",
      "http://semantic.cs.put.poznan.pl/ontologie/cocktails.owl#MartiniVesper\n",
      "http://semantic.cs.put.poznan.pl/ontologie/cocktails.owl#Bramble\n",
      "http://semantic.cs.put.poznan.pl/ontologie/cocktails.owl#DirtyMartini\n",
      "http://semantic.cs.put.poznan.pl/ontologie/cocktails.owl#Martini\n",
      "http://semantic.cs.put.poznan.pl/ontologie/cocktails.owl#Gimlet\n",
      "http://semantic.cs.put.poznan.pl/ontologie/cocktails.owl#HibiscusElDiablo\n",
      "http://semantic.cs.put.poznan.pl/ontologie/cocktails.owl#LaPaloma\n",
      "http://semantic.cs.put.poznan.pl/ontologie/cocktails.owl#LilletSpritz\n",
      "http://semantic.cs.put.poznan.pl/ontologie/cocktails.owl#JaegerWineDrink\n",
      "http://semantic.cs.put.poznan.pl/ontologie/cocktails.owl#IrishCoffee\n",
      "http://semantic.cs.put.poznan.pl/ontologie/cocktails.owl#PinaColada\n",
      "http://semantic.cs.put.poznan.pl/ontologie/cocktails.owl#TommysMargherita\n",
      "http://semantic.cs.put.poznan.pl/ontologie/cocktails.owl#JaegerCiderDrink\n",
      "http://semantic.cs.put.poznan.pl/ontologie/cocktails.owl#JaegerBeerShot\n",
      "http://semantic.cs.put.poznan.pl/ontologie/cocktails.owl#CiderMojito\n",
      "http://semantic.cs.put.poznan.pl/ontologie/cocktails.owl#Gibson\n",
      "http://semantic.cs.put.poznan.pl/ontologie/cocktails.owl#CranberrySparkler\n"
     ]
    }
   ],
   "source": [
    "hasDifficulty = URIRef(\"http://semantic.cs.put.poznan.pl/ontologie/cocktails.owl#hasDifficulty\")\n",
    "easy = URIRef(\"http://semantic.cs.put.poznan.pl/ontologie/cocktails.owl#Easy\")\n",
    "\n",
    "for s,p,o in g.triples((None, hasDifficulty, easy)):\n",
    "    print(\"{}\".format(s))"
   ]
  },
  {
   "cell_type": "code",
   "execution_count": 41,
   "metadata": {},
   "outputs": [
    {
     "name": "stdout",
     "output_type": "stream",
     "text": [
      "http://semantic.cs.put.poznan.pl/ontologie/cocktails.owl#Gin\n",
      "http://semantic.cs.put.poznan.pl/ontologie/cocktails.owl#DryVermouth\n"
     ]
    }
   ],
   "source": [
    "hasAlcohol = URIRef(\"http://semantic.cs.put.poznan.pl/ontologie/cocktails.owl#hasAlcohol\")\n",
    "martini = URIRef(\"http://semantic.cs.put.poznan.pl/ontologie/cocktails.owl#Martini\")\n",
    "for s,p,o in g.triples((martini,hasAlcohol, None)):\n",
    "    print(o)"
   ]
  }
 ],
 "metadata": {
  "kernelspec": {
   "display_name": "Python 3",
   "language": "python",
   "name": "python3"
  },
  "language_info": {
   "codemirror_mode": {
    "name": "ipython",
    "version": 3
   },
   "file_extension": ".py",
   "mimetype": "text/x-python",
   "name": "python",
   "nbconvert_exporter": "python",
   "pygments_lexer": "ipython3",
   "version": "3.8.5"
  }
 },
 "nbformat": 4,
 "nbformat_minor": 4
}
